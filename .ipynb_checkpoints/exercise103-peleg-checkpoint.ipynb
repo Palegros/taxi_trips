{
 "cells": [
  {
   "cell_type": "markdown",
   "metadata": {},
   "source": [
    "# Dataset: NYC taxi timings & weather report"
   ]
  },
  {
   "cell_type": "markdown",
   "metadata": {},
   "source": [
    "Business Questions:\n",
    "/change the questions into objectives\n",
    "1)\tTool- How does the average travel duration affect by amount of precipitation? \n",
    "2)\tTool- How does the average travel distance affect by the amount of precipitation? \n",
    "3)\tTool- How is the trip duration affected by average temperatures? \n",
    "4)\tDecision making- What is the ideal distance of travel to maximize the number of passengers per hour in rush hour? \n",
    "The decision will take its place while optimizing the number of taxis during the rush hours. The dision maker could be the general manager of the taxi station.\n",
    "\n",
    "Measurable Target:\n",
    "1. "
   ]
  },
  {
   "cell_type": "code",
   "execution_count": 1,
   "metadata": {},
   "outputs": [],
   "source": [
    "import pandas as pd\n",
    "import numpy as np\n",
    "import IPython.display as display\n",
    "import matplotlib.pyplot as plt \n",
    "import datetime\n",
    "import seaborn as sns \n",
    "%matplotlib inline \n",
    "from sklearn.model_selection import train_test_split   # This is to prepare the data for the model\n",
    "from sklearn.tree import DecisionTreeClassifier "
   ]
  },
  {
   "cell_type": "code",
   "execution_count": 2,
   "metadata": {},
   "outputs": [],
   "source": [
    "# Read in the CSV file and convert \"T\" to NaN   \n",
    "df=pd.read_csv(r'refined_data.csv',index_col='Unnamed: 0',na_values=\"T\")"
   ]
  },
  {
   "cell_type": "code",
   "execution_count": 3,
   "metadata": {},
   "outputs": [
    {
     "data": {
      "text/html": [
       "<div>\n",
       "<style scoped>\n",
       "    .dataframe tbody tr th:only-of-type {\n",
       "        vertical-align: middle;\n",
       "    }\n",
       "\n",
       "    .dataframe tbody tr th {\n",
       "        vertical-align: top;\n",
       "    }\n",
       "\n",
       "    .dataframe thead th {\n",
       "        text-align: right;\n",
       "    }\n",
       "</style>\n",
       "<table border=\"1\" class=\"dataframe\">\n",
       "  <thead>\n",
       "    <tr style=\"text-align: right;\">\n",
       "      <th></th>\n",
       "      <th>year</th>\n",
       "      <th>month</th>\n",
       "      <th>date</th>\n",
       "      <th>hour</th>\n",
       "      <th>id</th>\n",
       "      <th>vendor_id</th>\n",
       "      <th>pickup_datetime</th>\n",
       "      <th>dropoff_datetime</th>\n",
       "      <th>passenger_count</th>\n",
       "      <th>pickup_longitude</th>\n",
       "      <th>pickup_latitude</th>\n",
       "      <th>dropoff_longitude</th>\n",
       "      <th>dropoff_latitude</th>\n",
       "      <th>store_and_fwd_flag</th>\n",
       "      <th>trip_duration</th>\n",
       "      <th>avg_temp</th>\n",
       "      <th>snow_depth</th>\n",
       "      <th>snow_fall</th>\n",
       "      <th>precipitate</th>\n",
       "      <th>distance</th>\n",
       "    </tr>\n",
       "  </thead>\n",
       "  <tbody>\n",
       "    <tr>\n",
       "      <th>0</th>\n",
       "      <td>2016</td>\n",
       "      <td>3</td>\n",
       "      <td>2016-03-14</td>\n",
       "      <td>17</td>\n",
       "      <td>id2875421</td>\n",
       "      <td>2</td>\n",
       "      <td>2016-03-14 17:24:55</td>\n",
       "      <td>2016-03-14 17:32:30</td>\n",
       "      <td>1</td>\n",
       "      <td>-73.982155</td>\n",
       "      <td>40.767937</td>\n",
       "      <td>-73.964630</td>\n",
       "      <td>40.765602</td>\n",
       "      <td>N</td>\n",
       "      <td>455</td>\n",
       "      <td>45.5</td>\n",
       "      <td>0.0</td>\n",
       "      <td>0.0</td>\n",
       "      <td>0.29</td>\n",
       "      <td>17.679539</td>\n",
       "    </tr>\n",
       "    <tr>\n",
       "      <th>1</th>\n",
       "      <td>2016</td>\n",
       "      <td>6</td>\n",
       "      <td>2016-06-12</td>\n",
       "      <td>0</td>\n",
       "      <td>id2377394</td>\n",
       "      <td>1</td>\n",
       "      <td>2016-06-12 00:43:35</td>\n",
       "      <td>2016-06-12 00:54:38</td>\n",
       "      <td>1</td>\n",
       "      <td>-73.980415</td>\n",
       "      <td>40.738564</td>\n",
       "      <td>-73.999481</td>\n",
       "      <td>40.731152</td>\n",
       "      <td>N</td>\n",
       "      <td>663</td>\n",
       "      <td>72.5</td>\n",
       "      <td>0.0</td>\n",
       "      <td>0.0</td>\n",
       "      <td>0.00</td>\n",
       "      <td>20.455904</td>\n",
       "    </tr>\n",
       "    <tr>\n",
       "      <th>2</th>\n",
       "      <td>2016</td>\n",
       "      <td>4</td>\n",
       "      <td>2016-04-06</td>\n",
       "      <td>19</td>\n",
       "      <td>id3504673</td>\n",
       "      <td>2</td>\n",
       "      <td>2016-04-06 19:32:31</td>\n",
       "      <td>2016-04-06 19:39:40</td>\n",
       "      <td>1</td>\n",
       "      <td>-74.010040</td>\n",
       "      <td>40.719971</td>\n",
       "      <td>-74.012268</td>\n",
       "      <td>40.706718</td>\n",
       "      <td>N</td>\n",
       "      <td>429</td>\n",
       "      <td>39.0</td>\n",
       "      <td>0.0</td>\n",
       "      <td>0.0</td>\n",
       "      <td>0.00</td>\n",
       "      <td>13.438206</td>\n",
       "    </tr>\n",
       "    <tr>\n",
       "      <th>3</th>\n",
       "      <td>2016</td>\n",
       "      <td>3</td>\n",
       "      <td>2016-03-26</td>\n",
       "      <td>13</td>\n",
       "      <td>id2181028</td>\n",
       "      <td>2</td>\n",
       "      <td>2016-03-26 13:30:55</td>\n",
       "      <td>2016-03-26 13:38:10</td>\n",
       "      <td>1</td>\n",
       "      <td>-73.973053</td>\n",
       "      <td>40.793209</td>\n",
       "      <td>-73.972923</td>\n",
       "      <td>40.782520</td>\n",
       "      <td>N</td>\n",
       "      <td>435</td>\n",
       "      <td>46.5</td>\n",
       "      <td>0.0</td>\n",
       "      <td>0.0</td>\n",
       "      <td>0.00</td>\n",
       "      <td>10.689569</td>\n",
       "    </tr>\n",
       "    <tr>\n",
       "      <th>4</th>\n",
       "      <td>2016</td>\n",
       "      <td>1</td>\n",
       "      <td>2016-01-30</td>\n",
       "      <td>22</td>\n",
       "      <td>id0801584</td>\n",
       "      <td>2</td>\n",
       "      <td>2016-01-30 22:01:40</td>\n",
       "      <td>2016-01-30 22:09:03</td>\n",
       "      <td>6</td>\n",
       "      <td>-73.982857</td>\n",
       "      <td>40.742195</td>\n",
       "      <td>-73.992081</td>\n",
       "      <td>40.749184</td>\n",
       "      <td>N</td>\n",
       "      <td>443</td>\n",
       "      <td>33.5</td>\n",
       "      <td>6.0</td>\n",
       "      <td>0.0</td>\n",
       "      <td>0.00</td>\n",
       "      <td>11.572403</td>\n",
       "    </tr>\n",
       "  </tbody>\n",
       "</table>\n",
       "</div>"
      ],
      "text/plain": [
       "   year  month        date  hour         id  vendor_id      pickup_datetime  \\\n",
       "0  2016      3  2016-03-14    17  id2875421          2  2016-03-14 17:24:55   \n",
       "1  2016      6  2016-06-12     0  id2377394          1  2016-06-12 00:43:35   \n",
       "2  2016      4  2016-04-06    19  id3504673          2  2016-04-06 19:32:31   \n",
       "3  2016      3  2016-03-26    13  id2181028          2  2016-03-26 13:30:55   \n",
       "4  2016      1  2016-01-30    22  id0801584          2  2016-01-30 22:01:40   \n",
       "\n",
       "      dropoff_datetime  passenger_count  pickup_longitude  pickup_latitude  \\\n",
       "0  2016-03-14 17:32:30                1        -73.982155        40.767937   \n",
       "1  2016-06-12 00:54:38                1        -73.980415        40.738564   \n",
       "2  2016-04-06 19:39:40                1        -74.010040        40.719971   \n",
       "3  2016-03-26 13:38:10                1        -73.973053        40.793209   \n",
       "4  2016-01-30 22:09:03                6        -73.982857        40.742195   \n",
       "\n",
       "   dropoff_longitude  dropoff_latitude store_and_fwd_flag  trip_duration  \\\n",
       "0         -73.964630         40.765602                  N            455   \n",
       "1         -73.999481         40.731152                  N            663   \n",
       "2         -74.012268         40.706718                  N            429   \n",
       "3         -73.972923         40.782520                  N            435   \n",
       "4         -73.992081         40.749184                  N            443   \n",
       "\n",
       "   avg_temp  snow_depth  snow_fall  precipitate   distance  \n",
       "0      45.5         0.0        0.0         0.29  17.679539  \n",
       "1      72.5         0.0        0.0         0.00  20.455904  \n",
       "2      39.0         0.0        0.0         0.00  13.438206  \n",
       "3      46.5         0.0        0.0         0.00  10.689569  \n",
       "4      33.5         6.0        0.0         0.00  11.572403  "
      ]
     },
     "execution_count": 3,
     "metadata": {},
     "output_type": "execute_result"
    }
   ],
   "source": [
    "df.head()"
   ]
  },
  {
   "cell_type": "code",
   "execution_count": 4,
   "metadata": {},
   "outputs": [
    {
     "name": "stdout",
     "output_type": "stream",
     "text": [
      "<class 'pandas.core.frame.DataFrame'>\n",
      "Int64Index: 945 entries, 0 to 944\n",
      "Data columns (total 20 columns):\n",
      "year                  945 non-null int64\n",
      "month                 945 non-null int64\n",
      "date                  945 non-null object\n",
      "hour                  945 non-null int64\n",
      "id                    945 non-null object\n",
      "vendor_id             945 non-null int64\n",
      "pickup_datetime       945 non-null object\n",
      "dropoff_datetime      945 non-null object\n",
      "passenger_count       945 non-null int64\n",
      "pickup_longitude      945 non-null float64\n",
      "pickup_latitude       945 non-null float64\n",
      "dropoff_longitude     945 non-null float64\n",
      "dropoff_latitude      945 non-null float64\n",
      "store_and_fwd_flag    945 non-null object\n",
      "trip_duration         945 non-null int64\n",
      "avg_temp              945 non-null float64\n",
      "snow_depth            910 non-null float64\n",
      "snow_fall             887 non-null float64\n",
      "precipitate           882 non-null float64\n",
      "distance              945 non-null float64\n",
      "dtypes: float64(9), int64(6), object(5)\n",
      "memory usage: 155.0+ KB\n"
     ]
    }
   ],
   "source": [
    "df.info()"
   ]
  },
  {
   "cell_type": "code",
   "execution_count": 5,
   "metadata": {},
   "outputs": [],
   "source": [
    "#after replacing all the \"T\" to NaN- showing a df of all the rows that contains Ts\n",
    "nan_df=df[df.isnull().any(axis=1)]"
   ]
  },
  {
   "cell_type": "code",
   "execution_count": 6,
   "metadata": {},
   "outputs": [
    {
     "data": {
      "text/plain": [
       "year                  135\n",
       "month                 135\n",
       "date                  135\n",
       "hour                  135\n",
       "id                    135\n",
       "vendor_id             135\n",
       "pickup_datetime       135\n",
       "dropoff_datetime      135\n",
       "passenger_count       135\n",
       "pickup_longitude      135\n",
       "pickup_latitude       135\n",
       "dropoff_longitude     135\n",
       "dropoff_latitude      135\n",
       "store_and_fwd_flag    135\n",
       "trip_duration         135\n",
       "avg_temp              135\n",
       "snow_depth            100\n",
       "snow_fall              77\n",
       "precipitate            72\n",
       "distance              135\n",
       "dtype: int64"
      ]
     },
     "execution_count": 6,
     "metadata": {},
     "output_type": "execute_result"
    }
   ],
   "source": [
    "nan_df.count()"
   ]
  },
  {
   "cell_type": "markdown",
   "metadata": {},
   "source": [
    "copying only the columns that contain Nans <br>\n",
    "using mode() finding the most frequent value in these columns"
   ]
  },
  {
   "cell_type": "code",
   "execution_count": 7,
   "metadata": {},
   "outputs": [
    {
     "data": {
      "text/html": [
       "<div>\n",
       "<style scoped>\n",
       "    .dataframe tbody tr th:only-of-type {\n",
       "        vertical-align: middle;\n",
       "    }\n",
       "\n",
       "    .dataframe tbody tr th {\n",
       "        vertical-align: top;\n",
       "    }\n",
       "\n",
       "    .dataframe thead th {\n",
       "        text-align: right;\n",
       "    }\n",
       "</style>\n",
       "<table border=\"1\" class=\"dataframe\">\n",
       "  <thead>\n",
       "    <tr style=\"text-align: right;\">\n",
       "      <th></th>\n",
       "      <th>snow_depth</th>\n",
       "      <th>snow_fall</th>\n",
       "      <th>precipitate</th>\n",
       "    </tr>\n",
       "  </thead>\n",
       "  <tbody>\n",
       "    <tr>\n",
       "      <th>0</th>\n",
       "      <td>0.0</td>\n",
       "      <td>0.0</td>\n",
       "      <td>0.0</td>\n",
       "    </tr>\n",
       "  </tbody>\n",
       "</table>\n",
       "</div>"
      ],
      "text/plain": [
       "   snow_depth  snow_fall  precipitate\n",
       "0         0.0        0.0          0.0"
      ]
     },
     "execution_count": 7,
     "metadata": {},
     "output_type": "execute_result"
    }
   ],
   "source": [
    "nan_only=nan_df[['snow_depth','snow_fall','precipitate']].copy()\n",
    "nan_only.mode()"
   ]
  },
  {
   "cell_type": "markdown",
   "metadata": {},
   "source": [
    "fill NaN with the most frequent value of each column"
   ]
  },
  {
   "cell_type": "code",
   "execution_count": 8,
   "metadata": {},
   "outputs": [],
   "source": [
    "df = df.fillna(value = 0)"
   ]
  },
  {
   "cell_type": "code",
   "execution_count": 9,
   "metadata": {},
   "outputs": [
    {
     "name": "stdout",
     "output_type": "stream",
     "text": [
      "<class 'pandas.core.frame.DataFrame'>\n",
      "Int64Index: 945 entries, 0 to 944\n",
      "Data columns (total 20 columns):\n",
      "year                  945 non-null int64\n",
      "month                 945 non-null int64\n",
      "date                  945 non-null object\n",
      "hour                  945 non-null int64\n",
      "id                    945 non-null object\n",
      "vendor_id             945 non-null int64\n",
      "pickup_datetime       945 non-null object\n",
      "dropoff_datetime      945 non-null object\n",
      "passenger_count       945 non-null int64\n",
      "pickup_longitude      945 non-null float64\n",
      "pickup_latitude       945 non-null float64\n",
      "dropoff_longitude     945 non-null float64\n",
      "dropoff_latitude      945 non-null float64\n",
      "store_and_fwd_flag    945 non-null object\n",
      "trip_duration         945 non-null int64\n",
      "avg_temp              945 non-null float64\n",
      "snow_depth            945 non-null float64\n",
      "snow_fall             945 non-null float64\n",
      "precipitate           945 non-null float64\n",
      "distance              945 non-null float64\n",
      "dtypes: float64(9), int64(6), object(5)\n",
      "memory usage: 155.0+ KB\n"
     ]
    }
   ],
   "source": [
    "df.info()"
   ]
  },
  {
   "cell_type": "markdown",
   "metadata": {},
   "source": [
    "now we have no Nans in the df"
   ]
  },
  {
   "cell_type": "markdown",
   "metadata": {},
   "source": [
    "<b>Changing the column names</b>"
   ]
  },
  {
   "cell_type": "code",
   "execution_count": 10,
   "metadata": {},
   "outputs": [],
   "source": [
    "df.rename(columns={'trip_duration':'trip_duration(min)','snow_depth':'snow_depth(inch)',\n",
    "                       'avg_temp':'avg_temp(F)','distance':'distance(mile)'},inplace=True)"
   ]
  },
  {
   "cell_type": "code",
   "execution_count": 11,
   "metadata": {},
   "outputs": [
    {
     "data": {
      "text/plain": [
       "Index(['year', 'month', 'date', 'hour', 'id', 'vendor_id', 'pickup_datetime',\n",
       "       'dropoff_datetime', 'passenger_count', 'pickup_longitude',\n",
       "       'pickup_latitude', 'dropoff_longitude', 'dropoff_latitude',\n",
       "       'store_and_fwd_flag', 'trip_duration(min)', 'avg_temp(F)',\n",
       "       'snow_depth(inch)', 'snow_fall', 'precipitate', 'distance(mile)'],\n",
       "      dtype='object')"
      ]
     },
     "execution_count": 11,
     "metadata": {},
     "output_type": "execute_result"
    }
   ],
   "source": [
    "df.columns"
   ]
  },
  {
   "cell_type": "code",
   "execution_count": 12,
   "metadata": {},
   "outputs": [],
   "source": [
    "df['trip_duration(min)']=df['trip_duration(min)']/60"
   ]
  },
  {
   "cell_type": "code",
   "execution_count": 13,
   "metadata": {},
   "outputs": [
    {
     "data": {
      "text/html": [
       "<div>\n",
       "<style scoped>\n",
       "    .dataframe tbody tr th:only-of-type {\n",
       "        vertical-align: middle;\n",
       "    }\n",
       "\n",
       "    .dataframe tbody tr th {\n",
       "        vertical-align: top;\n",
       "    }\n",
       "\n",
       "    .dataframe thead th {\n",
       "        text-align: right;\n",
       "    }\n",
       "</style>\n",
       "<table border=\"1\" class=\"dataframe\">\n",
       "  <thead>\n",
       "    <tr style=\"text-align: right;\">\n",
       "      <th></th>\n",
       "      <th>year</th>\n",
       "      <th>month</th>\n",
       "      <th>hour</th>\n",
       "      <th>vendor_id</th>\n",
       "      <th>passenger_count</th>\n",
       "      <th>pickup_longitude</th>\n",
       "      <th>pickup_latitude</th>\n",
       "      <th>dropoff_longitude</th>\n",
       "      <th>dropoff_latitude</th>\n",
       "      <th>trip_duration(min)</th>\n",
       "      <th>avg_temp(F)</th>\n",
       "      <th>snow_depth(inch)</th>\n",
       "      <th>snow_fall</th>\n",
       "      <th>precipitate</th>\n",
       "      <th>distance(mile)</th>\n",
       "    </tr>\n",
       "  </thead>\n",
       "  <tbody>\n",
       "    <tr>\n",
       "      <th>count</th>\n",
       "      <td>945.0</td>\n",
       "      <td>945.000</td>\n",
       "      <td>945.000</td>\n",
       "      <td>945.000</td>\n",
       "      <td>945.000</td>\n",
       "      <td>945.000</td>\n",
       "      <td>945.000</td>\n",
       "      <td>945.000</td>\n",
       "      <td>945.000</td>\n",
       "      <td>945.000</td>\n",
       "      <td>945.000</td>\n",
       "      <td>945.000</td>\n",
       "      <td>945.000</td>\n",
       "      <td>945.000</td>\n",
       "      <td>945.000</td>\n",
       "    </tr>\n",
       "    <tr>\n",
       "      <th>mean</th>\n",
       "      <td>2016.0</td>\n",
       "      <td>3.577</td>\n",
       "      <td>13.706</td>\n",
       "      <td>1.531</td>\n",
       "      <td>1.671</td>\n",
       "      <td>-73.976</td>\n",
       "      <td>40.752</td>\n",
       "      <td>-73.974</td>\n",
       "      <td>40.753</td>\n",
       "      <td>12.157</td>\n",
       "      <td>51.727</td>\n",
       "      <td>0.411</td>\n",
       "      <td>0.123</td>\n",
       "      <td>0.097</td>\n",
       "      <td>29.271</td>\n",
       "    </tr>\n",
       "    <tr>\n",
       "      <th>std</th>\n",
       "      <td>0.0</td>\n",
       "      <td>1.708</td>\n",
       "      <td>6.378</td>\n",
       "      <td>0.499</td>\n",
       "      <td>1.299</td>\n",
       "      <td>0.033</td>\n",
       "      <td>0.026</td>\n",
       "      <td>0.032</td>\n",
       "      <td>0.030</td>\n",
       "      <td>7.091</td>\n",
       "      <td>16.187</td>\n",
       "      <td>2.412</td>\n",
       "      <td>1.553</td>\n",
       "      <td>0.269</td>\n",
       "      <td>28.134</td>\n",
       "    </tr>\n",
       "    <tr>\n",
       "      <th>min</th>\n",
       "      <td>2016.0</td>\n",
       "      <td>1.000</td>\n",
       "      <td>0.000</td>\n",
       "      <td>1.000</td>\n",
       "      <td>1.000</td>\n",
       "      <td>-74.017</td>\n",
       "      <td>40.641</td>\n",
       "      <td>-74.178</td>\n",
       "      <td>40.577</td>\n",
       "      <td>0.050</td>\n",
       "      <td>7.000</td>\n",
       "      <td>0.000</td>\n",
       "      <td>0.000</td>\n",
       "      <td>0.000</td>\n",
       "      <td>0.000</td>\n",
       "    </tr>\n",
       "    <tr>\n",
       "      <th>25%</th>\n",
       "      <td>2016.0</td>\n",
       "      <td>2.000</td>\n",
       "      <td>9.000</td>\n",
       "      <td>1.000</td>\n",
       "      <td>1.000</td>\n",
       "      <td>-73.992</td>\n",
       "      <td>40.740</td>\n",
       "      <td>-73.991</td>\n",
       "      <td>40.735</td>\n",
       "      <td>6.683</td>\n",
       "      <td>39.500</td>\n",
       "      <td>0.000</td>\n",
       "      <td>0.000</td>\n",
       "      <td>0.000</td>\n",
       "      <td>12.623</td>\n",
       "    </tr>\n",
       "    <tr>\n",
       "      <th>50%</th>\n",
       "      <td>2016.0</td>\n",
       "      <td>4.000</td>\n",
       "      <td>14.000</td>\n",
       "      <td>2.000</td>\n",
       "      <td>1.000</td>\n",
       "      <td>-73.982</td>\n",
       "      <td>40.755</td>\n",
       "      <td>-73.979</td>\n",
       "      <td>40.756</td>\n",
       "      <td>10.700</td>\n",
       "      <td>52.000</td>\n",
       "      <td>0.000</td>\n",
       "      <td>0.000</td>\n",
       "      <td>0.000</td>\n",
       "      <td>20.034</td>\n",
       "    </tr>\n",
       "    <tr>\n",
       "      <th>75%</th>\n",
       "      <td>2016.0</td>\n",
       "      <td>5.000</td>\n",
       "      <td>19.000</td>\n",
       "      <td>2.000</td>\n",
       "      <td>2.000</td>\n",
       "      <td>-73.967</td>\n",
       "      <td>40.768</td>\n",
       "      <td>-73.962</td>\n",
       "      <td>40.771</td>\n",
       "      <td>16.233</td>\n",
       "      <td>64.000</td>\n",
       "      <td>0.000</td>\n",
       "      <td>0.000</td>\n",
       "      <td>0.040</td>\n",
       "      <td>35.902</td>\n",
       "    </tr>\n",
       "    <tr>\n",
       "      <th>max</th>\n",
       "      <td>2016.0</td>\n",
       "      <td>6.000</td>\n",
       "      <td>23.000</td>\n",
       "      <td>2.000</td>\n",
       "      <td>6.000</td>\n",
       "      <td>-73.777</td>\n",
       "      <td>40.850</td>\n",
       "      <td>-73.782</td>\n",
       "      <td>40.886</td>\n",
       "      <td>33.133</td>\n",
       "      <td>81.500</td>\n",
       "      <td>22.000</td>\n",
       "      <td>27.300</td>\n",
       "      <td>2.310</td>\n",
       "      <td>230.143</td>\n",
       "    </tr>\n",
       "  </tbody>\n",
       "</table>\n",
       "</div>"
      ],
      "text/plain": [
       "         year    month     hour  vendor_id  passenger_count  pickup_longitude  \\\n",
       "count   945.0  945.000  945.000    945.000          945.000           945.000   \n",
       "mean   2016.0    3.577   13.706      1.531            1.671           -73.976   \n",
       "std       0.0    1.708    6.378      0.499            1.299             0.033   \n",
       "min    2016.0    1.000    0.000      1.000            1.000           -74.017   \n",
       "25%    2016.0    2.000    9.000      1.000            1.000           -73.992   \n",
       "50%    2016.0    4.000   14.000      2.000            1.000           -73.982   \n",
       "75%    2016.0    5.000   19.000      2.000            2.000           -73.967   \n",
       "max    2016.0    6.000   23.000      2.000            6.000           -73.777   \n",
       "\n",
       "       pickup_latitude  dropoff_longitude  dropoff_latitude  \\\n",
       "count          945.000            945.000           945.000   \n",
       "mean            40.752            -73.974            40.753   \n",
       "std              0.026              0.032             0.030   \n",
       "min             40.641            -74.178            40.577   \n",
       "25%             40.740            -73.991            40.735   \n",
       "50%             40.755            -73.979            40.756   \n",
       "75%             40.768            -73.962            40.771   \n",
       "max             40.850            -73.782            40.886   \n",
       "\n",
       "       trip_duration(min)  avg_temp(F)  snow_depth(inch)  snow_fall  \\\n",
       "count             945.000      945.000           945.000    945.000   \n",
       "mean               12.157       51.727             0.411      0.123   \n",
       "std                 7.091       16.187             2.412      1.553   \n",
       "min                 0.050        7.000             0.000      0.000   \n",
       "25%                 6.683       39.500             0.000      0.000   \n",
       "50%                10.700       52.000             0.000      0.000   \n",
       "75%                16.233       64.000             0.000      0.000   \n",
       "max                33.133       81.500            22.000     27.300   \n",
       "\n",
       "       precipitate  distance(mile)  \n",
       "count      945.000         945.000  \n",
       "mean         0.097          29.271  \n",
       "std          0.269          28.134  \n",
       "min          0.000           0.000  \n",
       "25%          0.000          12.623  \n",
       "50%          0.000          20.034  \n",
       "75%          0.040          35.902  \n",
       "max          2.310         230.143  "
      ]
     },
     "execution_count": 13,
     "metadata": {},
     "output_type": "execute_result"
    }
   ],
   "source": [
    "df.describe().round(3)"
   ]
  },
  {
   "cell_type": "code",
   "execution_count": 14,
   "metadata": {},
   "outputs": [
    {
     "data": {
      "text/plain": [
       "year                    int64\n",
       "month                   int64\n",
       "date                   object\n",
       "hour                    int64\n",
       "id                     object\n",
       "vendor_id               int64\n",
       "pickup_datetime        object\n",
       "dropoff_datetime       object\n",
       "passenger_count         int64\n",
       "pickup_longitude      float64\n",
       "pickup_latitude       float64\n",
       "dropoff_longitude     float64\n",
       "dropoff_latitude      float64\n",
       "store_and_fwd_flag     object\n",
       "trip_duration(min)    float64\n",
       "avg_temp(F)           float64\n",
       "snow_depth(inch)      float64\n",
       "snow_fall             float64\n",
       "precipitate           float64\n",
       "distance(mile)        float64\n",
       "dtype: object"
      ]
     },
     "execution_count": 14,
     "metadata": {},
     "output_type": "execute_result"
    }
   ],
   "source": [
    "df.dtypes"
   ]
  },
  {
   "cell_type": "markdown",
   "metadata": {},
   "source": [
    "make a df for the object features"
   ]
  },
  {
   "cell_type": "code",
   "execution_count": 16,
   "metadata": {},
   "outputs": [
    {
     "data": {
      "text/html": [
       "<div>\n",
       "<style scoped>\n",
       "    .dataframe tbody tr th:only-of-type {\n",
       "        vertical-align: middle;\n",
       "    }\n",
       "\n",
       "    .dataframe tbody tr th {\n",
       "        vertical-align: top;\n",
       "    }\n",
       "\n",
       "    .dataframe thead th {\n",
       "        text-align: right;\n",
       "    }\n",
       "</style>\n",
       "<table border=\"1\" class=\"dataframe\">\n",
       "  <thead>\n",
       "    <tr style=\"text-align: right;\">\n",
       "      <th></th>\n",
       "      <th>date</th>\n",
       "      <th>id</th>\n",
       "      <th>pickup_datetime</th>\n",
       "      <th>dropoff_datetime</th>\n",
       "      <th>store_and_fwd_flag</th>\n",
       "    </tr>\n",
       "  </thead>\n",
       "  <tbody>\n",
       "    <tr>\n",
       "      <th>0</th>\n",
       "      <td>2016-03-14</td>\n",
       "      <td>id2875421</td>\n",
       "      <td>2016-03-14 17:24:55</td>\n",
       "      <td>2016-03-14 17:32:30</td>\n",
       "      <td>N</td>\n",
       "    </tr>\n",
       "    <tr>\n",
       "      <th>1</th>\n",
       "      <td>2016-06-12</td>\n",
       "      <td>id2377394</td>\n",
       "      <td>2016-06-12 00:43:35</td>\n",
       "      <td>2016-06-12 00:54:38</td>\n",
       "      <td>N</td>\n",
       "    </tr>\n",
       "    <tr>\n",
       "      <th>2</th>\n",
       "      <td>2016-04-06</td>\n",
       "      <td>id3504673</td>\n",
       "      <td>2016-04-06 19:32:31</td>\n",
       "      <td>2016-04-06 19:39:40</td>\n",
       "      <td>N</td>\n",
       "    </tr>\n",
       "    <tr>\n",
       "      <th>3</th>\n",
       "      <td>2016-03-26</td>\n",
       "      <td>id2181028</td>\n",
       "      <td>2016-03-26 13:30:55</td>\n",
       "      <td>2016-03-26 13:38:10</td>\n",
       "      <td>N</td>\n",
       "    </tr>\n",
       "    <tr>\n",
       "      <th>4</th>\n",
       "      <td>2016-01-30</td>\n",
       "      <td>id0801584</td>\n",
       "      <td>2016-01-30 22:01:40</td>\n",
       "      <td>2016-01-30 22:09:03</td>\n",
       "      <td>N</td>\n",
       "    </tr>\n",
       "  </tbody>\n",
       "</table>\n",
       "</div>"
      ],
      "text/plain": [
       "         date         id      pickup_datetime     dropoff_datetime  \\\n",
       "0  2016-03-14  id2875421  2016-03-14 17:24:55  2016-03-14 17:32:30   \n",
       "1  2016-06-12  id2377394  2016-06-12 00:43:35  2016-06-12 00:54:38   \n",
       "2  2016-04-06  id3504673  2016-04-06 19:32:31  2016-04-06 19:39:40   \n",
       "3  2016-03-26  id2181028  2016-03-26 13:30:55  2016-03-26 13:38:10   \n",
       "4  2016-01-30  id0801584  2016-01-30 22:01:40  2016-01-30 22:09:03   \n",
       "\n",
       "  store_and_fwd_flag  \n",
       "0                  N  \n",
       "1                  N  \n",
       "2                  N  \n",
       "3                  N  \n",
       "4                  N  "
      ]
     },
     "execution_count": 16,
     "metadata": {},
     "output_type": "execute_result"
    }
   ],
   "source": [
    "obj_df = df.select_dtypes(include=['object']).copy()\n",
    "obj_df.head()"
   ]
  },
  {
   "cell_type": "markdown",
   "metadata": {},
   "source": [
    "Split the Day value out from the Date"
   ]
  },
  {
   "cell_type": "code",
   "execution_count": 18,
   "metadata": {},
   "outputs": [
    {
     "data": {
      "text/html": [
       "<div>\n",
       "<style scoped>\n",
       "    .dataframe tbody tr th:only-of-type {\n",
       "        vertical-align: middle;\n",
       "    }\n",
       "\n",
       "    .dataframe tbody tr th {\n",
       "        vertical-align: top;\n",
       "    }\n",
       "\n",
       "    .dataframe thead th {\n",
       "        text-align: right;\n",
       "    }\n",
       "</style>\n",
       "<table border=\"1\" class=\"dataframe\">\n",
       "  <thead>\n",
       "    <tr style=\"text-align: right;\">\n",
       "      <th></th>\n",
       "      <th>year</th>\n",
       "      <th>month</th>\n",
       "      <th>day</th>\n",
       "      <th>date</th>\n",
       "      <th>day</th>\n",
       "      <th>hour</th>\n",
       "      <th>id</th>\n",
       "      <th>vendor_id</th>\n",
       "      <th>pickup_datetime</th>\n",
       "      <th>dropoff_datetime</th>\n",
       "      <th>...</th>\n",
       "      <th>pickup_latitude</th>\n",
       "      <th>dropoff_longitude</th>\n",
       "      <th>dropoff_latitude</th>\n",
       "      <th>store_and_fwd_flag</th>\n",
       "      <th>trip_duration(min)</th>\n",
       "      <th>avg_temp(F)</th>\n",
       "      <th>snow_depth(inch)</th>\n",
       "      <th>snow_fall</th>\n",
       "      <th>precipitate</th>\n",
       "      <th>distance(mile)</th>\n",
       "    </tr>\n",
       "  </thead>\n",
       "  <tbody>\n",
       "    <tr>\n",
       "      <th>0</th>\n",
       "      <td>2016</td>\n",
       "      <td>3</td>\n",
       "      <td>14</td>\n",
       "      <td>2016-03-14</td>\n",
       "      <td>14</td>\n",
       "      <td>17</td>\n",
       "      <td>id2875421</td>\n",
       "      <td>2</td>\n",
       "      <td>2016-03-14 17:24:55</td>\n",
       "      <td>2016-03-14 17:32:30</td>\n",
       "      <td>...</td>\n",
       "      <td>40.767937</td>\n",
       "      <td>-73.964630</td>\n",
       "      <td>40.765602</td>\n",
       "      <td>N</td>\n",
       "      <td>7.583333</td>\n",
       "      <td>45.5</td>\n",
       "      <td>0.0</td>\n",
       "      <td>0.0</td>\n",
       "      <td>0.29</td>\n",
       "      <td>17.679539</td>\n",
       "    </tr>\n",
       "    <tr>\n",
       "      <th>1</th>\n",
       "      <td>2016</td>\n",
       "      <td>6</td>\n",
       "      <td>12</td>\n",
       "      <td>2016-06-12</td>\n",
       "      <td>12</td>\n",
       "      <td>0</td>\n",
       "      <td>id2377394</td>\n",
       "      <td>1</td>\n",
       "      <td>2016-06-12 00:43:35</td>\n",
       "      <td>2016-06-12 00:54:38</td>\n",
       "      <td>...</td>\n",
       "      <td>40.738564</td>\n",
       "      <td>-73.999481</td>\n",
       "      <td>40.731152</td>\n",
       "      <td>N</td>\n",
       "      <td>11.050000</td>\n",
       "      <td>72.5</td>\n",
       "      <td>0.0</td>\n",
       "      <td>0.0</td>\n",
       "      <td>0.00</td>\n",
       "      <td>20.455904</td>\n",
       "    </tr>\n",
       "    <tr>\n",
       "      <th>2</th>\n",
       "      <td>2016</td>\n",
       "      <td>4</td>\n",
       "      <td>6</td>\n",
       "      <td>2016-04-06</td>\n",
       "      <td>6</td>\n",
       "      <td>19</td>\n",
       "      <td>id3504673</td>\n",
       "      <td>2</td>\n",
       "      <td>2016-04-06 19:32:31</td>\n",
       "      <td>2016-04-06 19:39:40</td>\n",
       "      <td>...</td>\n",
       "      <td>40.719971</td>\n",
       "      <td>-74.012268</td>\n",
       "      <td>40.706718</td>\n",
       "      <td>N</td>\n",
       "      <td>7.150000</td>\n",
       "      <td>39.0</td>\n",
       "      <td>0.0</td>\n",
       "      <td>0.0</td>\n",
       "      <td>0.00</td>\n",
       "      <td>13.438206</td>\n",
       "    </tr>\n",
       "    <tr>\n",
       "      <th>3</th>\n",
       "      <td>2016</td>\n",
       "      <td>3</td>\n",
       "      <td>26</td>\n",
       "      <td>2016-03-26</td>\n",
       "      <td>26</td>\n",
       "      <td>13</td>\n",
       "      <td>id2181028</td>\n",
       "      <td>2</td>\n",
       "      <td>2016-03-26 13:30:55</td>\n",
       "      <td>2016-03-26 13:38:10</td>\n",
       "      <td>...</td>\n",
       "      <td>40.793209</td>\n",
       "      <td>-73.972923</td>\n",
       "      <td>40.782520</td>\n",
       "      <td>N</td>\n",
       "      <td>7.250000</td>\n",
       "      <td>46.5</td>\n",
       "      <td>0.0</td>\n",
       "      <td>0.0</td>\n",
       "      <td>0.00</td>\n",
       "      <td>10.689569</td>\n",
       "    </tr>\n",
       "    <tr>\n",
       "      <th>4</th>\n",
       "      <td>2016</td>\n",
       "      <td>1</td>\n",
       "      <td>30</td>\n",
       "      <td>2016-01-30</td>\n",
       "      <td>30</td>\n",
       "      <td>22</td>\n",
       "      <td>id0801584</td>\n",
       "      <td>2</td>\n",
       "      <td>2016-01-30 22:01:40</td>\n",
       "      <td>2016-01-30 22:09:03</td>\n",
       "      <td>...</td>\n",
       "      <td>40.742195</td>\n",
       "      <td>-73.992081</td>\n",
       "      <td>40.749184</td>\n",
       "      <td>N</td>\n",
       "      <td>7.383333</td>\n",
       "      <td>33.5</td>\n",
       "      <td>6.0</td>\n",
       "      <td>0.0</td>\n",
       "      <td>0.00</td>\n",
       "      <td>11.572403</td>\n",
       "    </tr>\n",
       "  </tbody>\n",
       "</table>\n",
       "<p>5 rows × 22 columns</p>\n",
       "</div>"
      ],
      "text/plain": [
       "   year  month  day        date  day  hour         id  vendor_id  \\\n",
       "0  2016      3   14  2016-03-14   14    17  id2875421          2   \n",
       "1  2016      6   12  2016-06-12   12     0  id2377394          1   \n",
       "2  2016      4    6  2016-04-06    6    19  id3504673          2   \n",
       "3  2016      3   26  2016-03-26   26    13  id2181028          2   \n",
       "4  2016      1   30  2016-01-30   30    22  id0801584          2   \n",
       "\n",
       "       pickup_datetime     dropoff_datetime       ...        pickup_latitude  \\\n",
       "0  2016-03-14 17:24:55  2016-03-14 17:32:30       ...              40.767937   \n",
       "1  2016-06-12 00:43:35  2016-06-12 00:54:38       ...              40.738564   \n",
       "2  2016-04-06 19:32:31  2016-04-06 19:39:40       ...              40.719971   \n",
       "3  2016-03-26 13:30:55  2016-03-26 13:38:10       ...              40.793209   \n",
       "4  2016-01-30 22:01:40  2016-01-30 22:09:03       ...              40.742195   \n",
       "\n",
       "   dropoff_longitude  dropoff_latitude  store_and_fwd_flag  \\\n",
       "0         -73.964630         40.765602                   N   \n",
       "1         -73.999481         40.731152                   N   \n",
       "2         -74.012268         40.706718                   N   \n",
       "3         -73.972923         40.782520                   N   \n",
       "4         -73.992081         40.749184                   N   \n",
       "\n",
       "   trip_duration(min) avg_temp(F)  snow_depth(inch)  snow_fall  precipitate  \\\n",
       "0            7.583333        45.5               0.0        0.0         0.29   \n",
       "1           11.050000        72.5               0.0        0.0         0.00   \n",
       "2            7.150000        39.0               0.0        0.0         0.00   \n",
       "3            7.250000        46.5               0.0        0.0         0.00   \n",
       "4            7.383333        33.5               6.0        0.0         0.00   \n",
       "\n",
       "   distance(mile)  \n",
       "0       17.679539  \n",
       "1       20.455904  \n",
       "2       13.438206  \n",
       "3       10.689569  \n",
       "4       11.572403  \n",
       "\n",
       "[5 rows x 22 columns]"
      ]
     },
     "execution_count": 18,
     "metadata": {},
     "output_type": "execute_result"
    }
   ],
   "source": [
    "obj_df['pickup_datetime'] = pd.to_datetime(obj_df['pickup_datetime'], format = '%Y/%m/%d')\n",
    "obj_df['day'] = obj_df['pickup_datetime'].dt.day\n",
    "df.insert(loc = 2, column = 'day', value = int, allow_duplicates = True)\n",
    "df['day'] = obj_df['day']\n",
    "df.head()"
   ]
  },
  {
   "cell_type": "code",
   "execution_count": 19,
   "metadata": {},
   "outputs": [
    {
     "data": {
      "image/png": "[encoded data removed]",
      "text/plain": [
       "<Figure size 1440x1080 with 20 Axes>"
      ]
     },
     "metadata": {
      "needs_background": "light"
     },
     "output_type": "display_data"
    }
   ],
   "source": [
    "df.hist(bins = 25, figsize = (20,15))\n",
    "plt.show()"
   ]
  },
  {
   "cell_type": "code",
   "execution_count": null,
   "metadata": {},
   "outputs": [],
   "source": [
    "#separate data in columns: pickup_datetime, dropoff_datetime, \n",
    "#change col trip_duration from seconds to minutes\n",
    "#change col avg_temp from fahrenheit to celsius by this formula: (F-32)*(5/9)"
   ]
  },
  {
   "cell_type": "code",
   "execution_count": null,
   "metadata": {},
   "outputs": [],
   "source": [
    "df.plot(kind=\"scatter\", x=\"avg_temp(F)\", y=\"trip_duration(min)\", alpha=0.1)"
   ]
  },
  {
   "cell_type": "code",
   "execution_count": null,
   "metadata": {},
   "outputs": [],
   "source": [
    "df.plot(kind=\"scatter\", x=\"avg_temp(F)\", y=\"distance(mile)\", alpha=0.1)"
   ]
  },
  {
   "cell_type": "code",
   "execution_count": null,
   "metadata": {
    "scrolled": true
   },
   "outputs": [],
   "source": [
    "df.precipitate = pd.to_numeric(df['precipitate'], errors='coerce')\n",
    "df.plot(kind=\"scatter\", x=\"precipitate\", y=\"trip_duration(min)\", alpha=0.1)"
   ]
  },
  {
   "cell_type": "code",
   "execution_count": null,
   "metadata": {
    "scrolled": true
   },
   "outputs": [],
   "source": [
    "df.plot(kind=\"scatter\", x=\"snow_fall\", y=\"trip_duration(min)\", alpha=0.1)"
   ]
  },
  {
   "cell_type": "code",
   "execution_count": null,
   "metadata": {},
   "outputs": [],
   "source": [
    "df.plot(kind=\"scatter\", x=\"snow_fall\", y=\"distance(mile)\", alpha=0.1)"
   ]
  },
  {
   "cell_type": "code",
   "execution_count": null,
   "metadata": {},
   "outputs": [],
   "source": [
    "df.plot(kind=\"scatter\", x=\"precipitate\", y=\"distance(mile)\", alpha=0.1)"
   ]
  },
  {
   "cell_type": "code",
   "execution_count": null,
   "metadata": {},
   "outputs": [],
   "source": [
    "df.plot(kind=\"scatter\", x=\"pickup_longitude\", y=\"pickup_latitude\", alpha=0.05)"
   ]
  },
  {
   "cell_type": "code",
   "execution_count": null,
   "metadata": {},
   "outputs": [],
   "source": [
    "df.plot(kind=\"scatter\", x=\"dropoff_longitude\", y=\"dropoff_latitude\", alpha=0.05)"
   ]
  },
  {
   "cell_type": "code",
   "execution_count": 20,
   "metadata": {},
   "outputs": [
    {
     "data": {
      "text/plain": [
       "0.6453911645022783"
      ]
     },
     "execution_count": 20,
     "metadata": {},
     "output_type": "execute_result"
    }
   ],
   "source": [
    "df['distance(mile)'].astype(float)\n",
    "corr_matrix = df.corr()\n",
    "corr_matrix[\"distance(mile)\"].sort_values(ascending=False)\n",
    "corr_matrix\n",
    "df['distance(mile)'].corr(df['trip_duration(min)'])"
   ]
  },
  {
   "cell_type": "code",
   "execution_count": 21,
   "metadata": {},
   "outputs": [
    {
     "data": {
      "text/plain": [
       "<matplotlib.axes._subplots.AxesSubplot at 0x2a508e3df98>"
      ]
     },
     "execution_count": 21,
     "metadata": {},
     "output_type": "execute_result"
    },
    {
     "data": {
      "image/png": "[encoded data removed]",
      "text/plain": [
       "<Figure size 432x288 with 2 Axes>"
      ]
     },
     "metadata": {
      "needs_background": "light"
     },
     "output_type": "display_data"
    }
   ],
   "source": [
    "sns.heatmap(corr_matrix)"
   ]
  },
  {
   "cell_type": "code",
   "execution_count": 25,
   "metadata": {},
   "outputs": [
    {
     "data": {
      "text/plain": [
       "<matplotlib.axes._subplots.AxesSubplot at 0x2a508f2e940>"
      ]
     },
     "execution_count": 25,
     "metadata": {},
     "output_type": "execute_result"
    },
    {
     "data": {
      "image/png": "[encoded data removed]",
      "text/plain": [
       "<Figure size 432x288 with 2 Axes>"
      ]
     },
     "metadata": {
      "needs_background": "light"
     },
     "output_type": "display_data"
    }
   ],
   "source": [
    "sns.heatmap(corr_matrix[(corr_matrix<1) & ((corr_matrix >= 0.35) | (corr_matrix <= -0.35)) ] )"
   ]
  },
  {
   "cell_type": "code",
   "execution_count": 27,
   "metadata": {},
   "outputs": [],
   "source": [
    "#Transform the data to matrix of X and y\n",
    "\n",
    "# 1. Split between X the predictors and y the target\n",
    "y = df['vendor_id']\n",
    "X = df.drop('vendor_id', axis=1)\n",
    "\n",
    "# 2. Turn from data frame to matrix: no indexes, number only\n",
    "X = X.values  # X is a matrix of size 20 * 810\n",
    "y = y.values  # y is a matrix of size 1 * 810, therefore it is a vector\n",
    "\n",
    "# 3. Split X and y togather to train data set 80% and test data set 20%\n",
    "X_train, X_test, y_train, y_test = train_test_split(X, y, test_size=0.2, random_state=7, stratify = y) "
   ]
  },
  {
   "cell_type": "code",
   "execution_count": 28,
   "metadata": {},
   "outputs": [
    {
     "name": "stdout",
     "output_type": "stream",
     "text": [
      "df type is:  <class 'pandas.core.frame.DataFrame'>   and X_train type is:  <class 'numpy.ndarray'>\n"
     ]
    }
   ],
   "source": [
    "print( 'df type is: ', type(df), '  and X_train type is: ', type(X_train))"
   ]
  },
  {
   "cell_type": "code",
   "execution_count": 29,
   "metadata": {},
   "outputs": [],
   "source": [
    "# select a model\n",
    "tree_class = DecisionTreeClassifier()"
   ]
  },
  {
   "cell_type": "code",
   "execution_count": null,
   "metadata": {},
   "outputs": [],
   "source": []
  },
  {
   "cell_type": "code",
   "execution_count": 30,
   "metadata": {},
   "outputs": [
    {
     "ename": "ValueError",
     "evalue": "could not convert string to float: 'N'",
     "output_type": "error",
     "traceback": [
      "\u001b[1;31m---------------------------------------------------------------------------\u001b[0m",
      "\u001b[1;31mValueError\u001b[0m                                Traceback (most recent call last)",
      "\u001b[1;32m<ipython-input-30-8812914a403a>\u001b[0m in \u001b[0;36m<module>\u001b[1;34m()\u001b[0m\n\u001b[1;32m----> 1\u001b[1;33m \u001b[0mtree_class\u001b[0m\u001b[1;33m.\u001b[0m\u001b[0mfit\u001b[0m\u001b[1;33m(\u001b[0m\u001b[0mX_train\u001b[0m\u001b[1;33m,\u001b[0m \u001b[0my_train\u001b[0m\u001b[1;33m)\u001b[0m\u001b[1;33m\u001b[0m\u001b[0m\n\u001b[0m",
      "\u001b[1;32m~\\AppData\\Local\\Continuum\\anaconda3\\lib\\site-packages\\sklearn\\tree\\tree.py\u001b[0m in \u001b[0;36mfit\u001b[1;34m(self, X, y, sample_weight, check_input, X_idx_sorted)\u001b[0m\n\u001b[0;32m    788\u001b[0m             \u001b[0msample_weight\u001b[0m\u001b[1;33m=\u001b[0m\u001b[0msample_weight\u001b[0m\u001b[1;33m,\u001b[0m\u001b[1;33m\u001b[0m\u001b[0m\n\u001b[0;32m    789\u001b[0m             \u001b[0mcheck_input\u001b[0m\u001b[1;33m=\u001b[0m\u001b[0mcheck_input\u001b[0m\u001b[1;33m,\u001b[0m\u001b[1;33m\u001b[0m\u001b[0m\n\u001b[1;32m--> 790\u001b[1;33m             X_idx_sorted=X_idx_sorted)\n\u001b[0m\u001b[0;32m    791\u001b[0m         \u001b[1;32mreturn\u001b[0m \u001b[0mself\u001b[0m\u001b[1;33m\u001b[0m\u001b[0m\n\u001b[0;32m    792\u001b[0m \u001b[1;33m\u001b[0m\u001b[0m\n",
      "\u001b[1;32m~\\AppData\\Local\\Continuum\\anaconda3\\lib\\site-packages\\sklearn\\tree\\tree.py\u001b[0m in \u001b[0;36mfit\u001b[1;34m(self, X, y, sample_weight, check_input, X_idx_sorted)\u001b[0m\n\u001b[0;32m    114\u001b[0m         \u001b[0mrandom_state\u001b[0m \u001b[1;33m=\u001b[0m \u001b[0mcheck_random_state\u001b[0m\u001b[1;33m(\u001b[0m\u001b[0mself\u001b[0m\u001b[1;33m.\u001b[0m\u001b[0mrandom_state\u001b[0m\u001b[1;33m)\u001b[0m\u001b[1;33m\u001b[0m\u001b[0m\n\u001b[0;32m    115\u001b[0m         \u001b[1;32mif\u001b[0m \u001b[0mcheck_input\u001b[0m\u001b[1;33m:\u001b[0m\u001b[1;33m\u001b[0m\u001b[0m\n\u001b[1;32m--> 116\u001b[1;33m             \u001b[0mX\u001b[0m \u001b[1;33m=\u001b[0m \u001b[0mcheck_array\u001b[0m\u001b[1;33m(\u001b[0m\u001b[0mX\u001b[0m\u001b[1;33m,\u001b[0m \u001b[0mdtype\u001b[0m\u001b[1;33m=\u001b[0m\u001b[0mDTYPE\u001b[0m\u001b[1;33m,\u001b[0m \u001b[0maccept_sparse\u001b[0m\u001b[1;33m=\u001b[0m\u001b[1;34m\"csc\"\u001b[0m\u001b[1;33m)\u001b[0m\u001b[1;33m\u001b[0m\u001b[0m\n\u001b[0m\u001b[0;32m    117\u001b[0m             \u001b[0my\u001b[0m \u001b[1;33m=\u001b[0m \u001b[0mcheck_array\u001b[0m\u001b[1;33m(\u001b[0m\u001b[0my\u001b[0m\u001b[1;33m,\u001b[0m \u001b[0mensure_2d\u001b[0m\u001b[1;33m=\u001b[0m\u001b[1;32mFalse\u001b[0m\u001b[1;33m,\u001b[0m \u001b[0mdtype\u001b[0m\u001b[1;33m=\u001b[0m\u001b[1;32mNone\u001b[0m\u001b[1;33m)\u001b[0m\u001b[1;33m\u001b[0m\u001b[0m\n\u001b[0;32m    118\u001b[0m             \u001b[1;32mif\u001b[0m \u001b[0missparse\u001b[0m\u001b[1;33m(\u001b[0m\u001b[0mX\u001b[0m\u001b[1;33m)\u001b[0m\u001b[1;33m:\u001b[0m\u001b[1;33m\u001b[0m\u001b[0m\n",
      "\u001b[1;32m~\\AppData\\Local\\Continuum\\anaconda3\\lib\\site-packages\\sklearn\\utils\\validation.py\u001b[0m in \u001b[0;36mcheck_array\u001b[1;34m(array, accept_sparse, dtype, order, copy, force_all_finite, ensure_2d, allow_nd, ensure_min_samples, ensure_min_features, warn_on_dtype, estimator)\u001b[0m\n\u001b[0;32m    431\u001b[0m                                       force_all_finite)\n\u001b[0;32m    432\u001b[0m     \u001b[1;32melse\u001b[0m\u001b[1;33m:\u001b[0m\u001b[1;33m\u001b[0m\u001b[0m\n\u001b[1;32m--> 433\u001b[1;33m         \u001b[0marray\u001b[0m \u001b[1;33m=\u001b[0m \u001b[0mnp\u001b[0m\u001b[1;33m.\u001b[0m\u001b[0marray\u001b[0m\u001b[1;33m(\u001b[0m\u001b[0marray\u001b[0m\u001b[1;33m,\u001b[0m \u001b[0mdtype\u001b[0m\u001b[1;33m=\u001b[0m\u001b[0mdtype\u001b[0m\u001b[1;33m,\u001b[0m \u001b[0morder\u001b[0m\u001b[1;33m=\u001b[0m\u001b[0morder\u001b[0m\u001b[1;33m,\u001b[0m \u001b[0mcopy\u001b[0m\u001b[1;33m=\u001b[0m\u001b[0mcopy\u001b[0m\u001b[1;33m)\u001b[0m\u001b[1;33m\u001b[0m\u001b[0m\n\u001b[0m\u001b[0;32m    434\u001b[0m \u001b[1;33m\u001b[0m\u001b[0m\n\u001b[0;32m    435\u001b[0m         \u001b[1;32mif\u001b[0m \u001b[0mensure_2d\u001b[0m\u001b[1;33m:\u001b[0m\u001b[1;33m\u001b[0m\u001b[0m\n",
      "\u001b[1;31mValueError\u001b[0m: could not convert string to float: 'N'"
     ]
    }
   ],
   "source": [
    "tree_class.fit(X_train, y_train)"
   ]
  },
  {
   "cell_type": "code",
   "execution_count": null,
   "metadata": {},
   "outputs": [],
   "source": [
    "#Model evaluation\n",
    "tree_class.score(X=X_test, y=y_test) "
   ]
  },
  {
   "cell_type": "code",
   "execution_count": null,
   "metadata": {},
   "outputs": [],
   "source": [
    "tree_class.score(X=X_train, y=y_train) "
   ]
  },
  {
   "cell_type": "code",
   "execution_count": null,
   "metadata": {},
   "outputs": [],
   "source": [
    "#Predict / Deploy model\n",
    "example = X_test[7:10,]\n",
    "example"
   ]
  },
  {
   "cell_type": "code",
   "execution_count": null,
   "metadata": {},
   "outputs": [],
   "source": [
    "predicted_y = tree_class.predict(X=example)\n",
    "predicted_y"
   ]
  },
  {
   "cell_type": "code",
   "execution_count": null,
   "metadata": {},
   "outputs": [],
   "source": [
    "y_test[7:10,]"
   ]
  },
  {
   "cell_type": "code",
   "execution_count": null,
   "metadata": {},
   "outputs": [],
   "source": []
  }
 ],
 "metadata": {
  "kernelspec": {
   "display_name": "Python 3",
   "language": "python",
   "name": "python3"
  },
  "language_info": {
   "codemirror_mode": {
    "name": "ipython",
    "version": 3
   },
   "file_extension": ".py",
   "mimetype": "text/x-python",
   "name": "python",
   "nbconvert_exporter": "python",
   "pygments_lexer": "ipython3",
   "version": "3.7.0"
  }
 },
 "nbformat": 4,
 "nbformat_minor": 2
}
