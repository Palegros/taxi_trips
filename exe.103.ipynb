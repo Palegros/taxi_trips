{
 "cells": [
  {
   "cell_type": "markdown",
   "metadata": {},
   "source": [
    "# Dataset: NYC taxi timings & weather report"
   ]
  },
  {
   "cell_type": "markdown",
   "metadata": {},
   "source": [
    "Business Questions:\n",
    "/change the questions into objectives\n",
    "1)\tTool- How does the average travel duration affect by amount of precipitation? \n",
    "2)\tTool- How does the average travel distance affect by the amount of precipitation? \n",
    "3)\tTool- How is the trip duration affected by average temperatures? \n",
    "4)\tDecision making- What is the ideal distance of travel to maximize the number of passengers per hour in rush hour? \n",
    "The decision will take its place while optimizing the number of taxis during the rush hours. The dision maker could be the general manager of the taxi station.\n",
    "\n",
    "Measurable Target:\n",
    "1. "
   ]
  },
  {
   "cell_type": "code",
   "execution_count": 1,
   "metadata": {},
   "outputs": [],
   "source": [
    "import pandas as pd\n",
    "import numpy as np\n",
    "import IPython.display as display\n",
    "import matplotlib.pyplot as plt \n",
    "import datetime\n",
    "import seaborn as sns \n",
    "%matplotlib inline \n",
    "from sklearn.model_selection import train_test_split   # This is to prepare the data for the model\n",
    "from sklearn.tree import DecisionTreeClassifier "
   ]
  },
  {
   "cell_type": "code",
   "execution_count": 2,
   "metadata": {},
   "outputs": [],
   "source": [
    "df=pd.read_csv(r'NYC_taxi_trips.csv')"
   ]
  },
  {
   "cell_type": "markdown",
   "metadata": {},
   "source": [
    "Let's see the data "
   ]
  },
  {
   "cell_type": "code",
   "execution_count": 77,
   "metadata": {},
   "outputs": [
    {
     "data": {
      "text/html": [
       "<div>\n",
       "<style scoped>\n",
       "    .dataframe tbody tr th:only-of-type {\n",
       "        vertical-align: middle;\n",
       "    }\n",
       "\n",
       "    .dataframe tbody tr th {\n",
       "        vertical-align: top;\n",
       "    }\n",
       "\n",
       "    .dataframe thead th {\n",
       "        text-align: right;\n",
       "    }\n",
       "</style>\n",
       "<table border=\"1\" class=\"dataframe\">\n",
       "  <thead>\n",
       "    <tr style=\"text-align: right;\">\n",
       "      <th></th>\n",
       "      <th>sample_ID</th>\n",
       "      <th>vendor_id</th>\n",
       "      <th>pickup_datetime</th>\n",
       "      <th>dropoff_datetime</th>\n",
       "      <th>passenger_count</th>\n",
       "      <th>trip_distance</th>\n",
       "      <th>pickup_longitude</th>\n",
       "      <th>pickup_latitude</th>\n",
       "      <th>rate_code</th>\n",
       "      <th>dropoff_longitude</th>\n",
       "      <th>dropoff_latitude</th>\n",
       "      <th>payment_type</th>\n",
       "      <th>fare_amount</th>\n",
       "      <th>total_amount</th>\n",
       "      <th>trip_duration</th>\n",
       "    </tr>\n",
       "  </thead>\n",
       "  <tbody>\n",
       "    <tr>\n",
       "      <th>0</th>\n",
       "      <td>4287015</td>\n",
       "      <td>VTS</td>\n",
       "      <td>2014-01-01 00:46:00</td>\n",
       "      <td>2014-01-01 01:21:00</td>\n",
       "      <td>1</td>\n",
       "      <td>14.08</td>\n",
       "      <td>-73.989462</td>\n",
       "      <td>40.720395</td>\n",
       "      <td>1</td>\n",
       "      <td>-73.885582</td>\n",
       "      <td>40.857895</td>\n",
       "      <td>CRD</td>\n",
       "      <td>43.5</td>\n",
       "      <td>57.70</td>\n",
       "      <td>00:35:00</td>\n",
       "    </tr>\n",
       "    <tr>\n",
       "      <th>1</th>\n",
       "      <td>11258964</td>\n",
       "      <td>CMT</td>\n",
       "      <td>2014-01-01 02:31:00</td>\n",
       "      <td>2014-01-01 02:58:00</td>\n",
       "      <td>1</td>\n",
       "      <td>6.10</td>\n",
       "      <td>-74.004526</td>\n",
       "      <td>40.741617</td>\n",
       "      <td>1</td>\n",
       "      <td>-73.972916</td>\n",
       "      <td>40.782535</td>\n",
       "      <td>CRD</td>\n",
       "      <td>23.0</td>\n",
       "      <td>24.00</td>\n",
       "      <td>00:27:00</td>\n",
       "    </tr>\n",
       "    <tr>\n",
       "      <th>2</th>\n",
       "      <td>3349190</td>\n",
       "      <td>VTS</td>\n",
       "      <td>2014-01-28 17:54:00</td>\n",
       "      <td>2014-01-28 17:57:00</td>\n",
       "      <td>1</td>\n",
       "      <td>0.82</td>\n",
       "      <td>-73.959163</td>\n",
       "      <td>40.771767</td>\n",
       "      <td>1</td>\n",
       "      <td>-73.952275</td>\n",
       "      <td>40.781150</td>\n",
       "      <td>CSH</td>\n",
       "      <td>4.5</td>\n",
       "      <td>6.00</td>\n",
       "      <td>00:03:00</td>\n",
       "    </tr>\n",
       "    <tr>\n",
       "      <th>3</th>\n",
       "      <td>13918361</td>\n",
       "      <td>VTS</td>\n",
       "      <td>2014-02-27 13:35:00</td>\n",
       "      <td>2014-02-27 13:56:00</td>\n",
       "      <td>4</td>\n",
       "      <td>2.99</td>\n",
       "      <td>-74.005203</td>\n",
       "      <td>40.720355</td>\n",
       "      <td>1</td>\n",
       "      <td>-73.981020</td>\n",
       "      <td>40.759027</td>\n",
       "      <td>CRD</td>\n",
       "      <td>15.0</td>\n",
       "      <td>18.50</td>\n",
       "      <td>00:21:00</td>\n",
       "    </tr>\n",
       "    <tr>\n",
       "      <th>4</th>\n",
       "      <td>2380163</td>\n",
       "      <td>VTS</td>\n",
       "      <td>2014-01-24 17:21:00</td>\n",
       "      <td>2014-01-24 17:33:00</td>\n",
       "      <td>1</td>\n",
       "      <td>1.75</td>\n",
       "      <td>-73.989990</td>\n",
       "      <td>40.755860</td>\n",
       "      <td>1</td>\n",
       "      <td>-74.005280</td>\n",
       "      <td>40.741110</td>\n",
       "      <td>CRD</td>\n",
       "      <td>10.5</td>\n",
       "      <td>15.45</td>\n",
       "      <td>00:12:00</td>\n",
       "    </tr>\n",
       "  </tbody>\n",
       "</table>\n",
       "</div>"
      ],
      "text/plain": [
       "   sample_ID vendor_id     pickup_datetime    dropoff_datetime  \\\n",
       "0    4287015       VTS 2014-01-01 00:46:00 2014-01-01 01:21:00   \n",
       "1   11258964       CMT 2014-01-01 02:31:00 2014-01-01 02:58:00   \n",
       "2    3349190       VTS 2014-01-28 17:54:00 2014-01-28 17:57:00   \n",
       "3   13918361       VTS 2014-02-27 13:35:00 2014-02-27 13:56:00   \n",
       "4    2380163       VTS 2014-01-24 17:21:00 2014-01-24 17:33:00   \n",
       "\n",
       "   passenger_count  trip_distance  pickup_longitude  pickup_latitude  \\\n",
       "0                1          14.08        -73.989462        40.720395   \n",
       "1                1           6.10        -74.004526        40.741617   \n",
       "2                1           0.82        -73.959163        40.771767   \n",
       "3                4           2.99        -74.005203        40.720355   \n",
       "4                1           1.75        -73.989990        40.755860   \n",
       "\n",
       "   rate_code  dropoff_longitude  dropoff_latitude payment_type  fare_amount  \\\n",
       "0          1         -73.885582         40.857895          CRD         43.5   \n",
       "1          1         -73.972916         40.782535          CRD         23.0   \n",
       "2          1         -73.952275         40.781150          CSH          4.5   \n",
       "3          1         -73.981020         40.759027          CRD         15.0   \n",
       "4          1         -74.005280         40.741110          CRD         10.5   \n",
       "\n",
       "   total_amount trip_duration  \n",
       "0         57.70      00:35:00  \n",
       "1         24.00      00:27:00  \n",
       "2          6.00      00:03:00  \n",
       "3         18.50      00:21:00  \n",
       "4         15.45      00:12:00  "
      ]
     },
     "execution_count": 77,
     "metadata": {},
     "output_type": "execute_result"
    }
   ],
   "source": [
    "df.head()"
   ]
  },
  {
   "cell_type": "code",
   "execution_count": 48,
   "metadata": {
    "collapsed": true
   },
   "outputs": [
    {
     "data": {
      "text/plain": [
       "sample_ID                     int64\n",
       "vendor_id                    object\n",
       "pickup_datetime      datetime64[ns]\n",
       "dropoff_datetime     datetime64[ns]\n",
       "passenger_count               int64\n",
       "trip_distance               float64\n",
       "pickup_longitude            float64\n",
       "pickup_latitude             float64\n",
       "rate_code                     int64\n",
       "dropoff_longitude           float64\n",
       "dropoff_latitude            float64\n",
       "payment_type                 object\n",
       "fare_amount                 float64\n",
       "total_amount                float64\n",
       "dtype: object"
      ]
     },
     "execution_count": 48,
     "metadata": {},
     "output_type": "execute_result"
    }
   ],
   "source": [
    "df.dtypes"
   ]
  },
  {
   "cell_type": "code",
   "execution_count": 50,
   "metadata": {
    "scrolled": true
   },
   "outputs": [],
   "source": [
    "## transforming time format and calculating trip duration\n",
    "df['pickup_datetime'] = pd.to_datetime(df['pickup_datetime'], format= '%d/%m/%Y %H:%M')\n",
    "df['dropoff_datetime']= pd.to_datetime(df['dropoff_datetime'], format= '%d/%m/%Y %H:%M')\n",
    "df['trip_duration'] =  df.dropoff_datetime -df.pickup_datetime\n"
   ]
  },
  {
   "cell_type": "code",
   "execution_count": 54,
   "metadata": {
    "collapsed": true
   },
   "outputs": [
    {
     "data": {
      "text/plain": [
       "0       Wednesday\n",
       "1       Wednesday\n",
       "2         Tuesday\n",
       "3        Thursday\n",
       "4          Friday\n",
       "5          Monday\n",
       "6          Sunday\n",
       "7          Friday\n",
       "8          Monday\n",
       "9       Wednesday\n",
       "10         Monday\n",
       "11         Friday\n",
       "12        Tuesday\n",
       "13      Wednesday\n",
       "14         Monday\n",
       "15      Wednesday\n",
       "16         Friday\n",
       "17       Saturday\n",
       "18         Sunday\n",
       "19       Thursday\n",
       "20      Wednesday\n",
       "21       Thursday\n",
       "22       Saturday\n",
       "23         Friday\n",
       "24         Friday\n",
       "25        Tuesday\n",
       "26        Tuesday\n",
       "27       Thursday\n",
       "28       Thursday\n",
       "29       Saturday\n",
       "          ...    \n",
       "3156       Friday\n",
       "3157    Wednesday\n",
       "3158       Friday\n",
       "3159     Saturday\n",
       "3160      Tuesday\n",
       "3161    Wednesday\n",
       "3162     Saturday\n",
       "3163     Thursday\n",
       "3164      Tuesday\n",
       "3165    Wednesday\n",
       "3166     Saturday\n",
       "3167       Friday\n",
       "3168    Wednesday\n",
       "3169      Tuesday\n",
       "3170       Monday\n",
       "3171       Friday\n",
       "3172      Tuesday\n",
       "3173       Friday\n",
       "3174       Friday\n",
       "3175       Sunday\n",
       "3176       Friday\n",
       "3177     Saturday\n",
       "3178     Thursday\n",
       "3179       Sunday\n",
       "3180    Wednesday\n",
       "3181       Monday\n",
       "3182      Tuesday\n",
       "3183       Friday\n",
       "3184     Saturday\n",
       "3185       Monday\n",
       "Name: pickup_datetime, Length: 3186, dtype: object"
      ]
     },
     "execution_count": 54,
     "metadata": {},
     "output_type": "execute_result"
    }
   ],
   "source": [
    "df.pickup_datetime.dt.weekday_name"
   ]
  },
  {
   "cell_type": "markdown",
   "metadata": {},
   "source": [
    "<b>Changing the column names</b><br>\n",
    "The data came from US- the unit of measurement is in inch\\mile\\F degree etc."
   ]
  },
  {
   "cell_type": "code",
   "execution_count": null,
   "metadata": {},
   "outputs": [],
   "source": [
    "df.rename(columns={'trip_duration':'trip_duration(min)','snow_depth':'snow_depth(inch)',\n",
    "                       'avg_temp':'avg_temp(F)','distance':'distance(mile)'},inplace=True)"
   ]
  },
  {
   "cell_type": "code",
   "execution_count": 70,
   "metadata": {
    "scrolled": true
   },
   "outputs": [
    {
     "data": {
      "text/html": [
       "<div>\n",
       "<style scoped>\n",
       "    .dataframe tbody tr th:only-of-type {\n",
       "        vertical-align: middle;\n",
       "    }\n",
       "\n",
       "    .dataframe tbody tr th {\n",
       "        vertical-align: top;\n",
       "    }\n",
       "\n",
       "    .dataframe thead th {\n",
       "        text-align: right;\n",
       "    }\n",
       "</style>\n",
       "<table border=\"1\" class=\"dataframe\">\n",
       "  <thead>\n",
       "    <tr style=\"text-align: right;\">\n",
       "      <th></th>\n",
       "      <th>sample_ID</th>\n",
       "      <th>passenger_count</th>\n",
       "      <th>trip_distance</th>\n",
       "      <th>pickup_longitude</th>\n",
       "      <th>pickup_latitude</th>\n",
       "      <th>rate_code</th>\n",
       "      <th>dropoff_longitude</th>\n",
       "      <th>dropoff_latitude</th>\n",
       "      <th>fare_amount</th>\n",
       "      <th>total_amount</th>\n",
       "      <th>trip_duration</th>\n",
       "    </tr>\n",
       "  </thead>\n",
       "  <tbody>\n",
       "    <tr>\n",
       "      <th>count</th>\n",
       "      <td>3186.00</td>\n",
       "      <td>3186.00</td>\n",
       "      <td>3186.00</td>\n",
       "      <td>3186.00</td>\n",
       "      <td>3186.00</td>\n",
       "      <td>3186.00</td>\n",
       "      <td>3186.00</td>\n",
       "      <td>3186.00</td>\n",
       "      <td>3186.00</td>\n",
       "      <td>3186.00</td>\n",
       "      <td>3186</td>\n",
       "    </tr>\n",
       "    <tr>\n",
       "      <th>mean</th>\n",
       "      <td>7537165.08</td>\n",
       "      <td>1.68</td>\n",
       "      <td>2.74</td>\n",
       "      <td>-72.96</td>\n",
       "      <td>40.11</td>\n",
       "      <td>1.02</td>\n",
       "      <td>-72.82</td>\n",
       "      <td>40.03</td>\n",
       "      <td>11.76</td>\n",
       "      <td>14.25</td>\n",
       "      <td>0 days 00:12:04.538606</td>\n",
       "    </tr>\n",
       "    <tr>\n",
       "      <th>std</th>\n",
       "      <td>4333409.32</td>\n",
       "      <td>1.34</td>\n",
       "      <td>3.22</td>\n",
       "      <td>8.93</td>\n",
       "      <td>6.19</td>\n",
       "      <td>0.22</td>\n",
       "      <td>9.48</td>\n",
       "      <td>6.43</td>\n",
       "      <td>9.24</td>\n",
       "      <td>11.25</td>\n",
       "      <td>0 days 00:08:58.906029</td>\n",
       "    </tr>\n",
       "    <tr>\n",
       "      <th>min</th>\n",
       "      <td>10339.00</td>\n",
       "      <td>1.00</td>\n",
       "      <td>0.00</td>\n",
       "      <td>-180.00</td>\n",
       "      <td>-180.00</td>\n",
       "      <td>0.00</td>\n",
       "      <td>-180.00</td>\n",
       "      <td>-180.00</td>\n",
       "      <td>2.50</td>\n",
       "      <td>3.00</td>\n",
       "      <td>0 days 00:00:00</td>\n",
       "    </tr>\n",
       "    <tr>\n",
       "      <th>25%</th>\n",
       "      <td>3882098.50</td>\n",
       "      <td>1.00</td>\n",
       "      <td>1.00</td>\n",
       "      <td>-73.99</td>\n",
       "      <td>40.74</td>\n",
       "      <td>1.00</td>\n",
       "      <td>-73.99</td>\n",
       "      <td>40.73</td>\n",
       "      <td>6.50</td>\n",
       "      <td>7.80</td>\n",
       "      <td>0 days 00:06:00</td>\n",
       "    </tr>\n",
       "    <tr>\n",
       "      <th>50%</th>\n",
       "      <td>7555203.50</td>\n",
       "      <td>1.00</td>\n",
       "      <td>1.70</td>\n",
       "      <td>-73.98</td>\n",
       "      <td>40.75</td>\n",
       "      <td>1.00</td>\n",
       "      <td>-73.98</td>\n",
       "      <td>40.75</td>\n",
       "      <td>9.00</td>\n",
       "      <td>10.80</td>\n",
       "      <td>0 days 00:10:00</td>\n",
       "    </tr>\n",
       "    <tr>\n",
       "      <th>75%</th>\n",
       "      <td>11268305.00</td>\n",
       "      <td>2.00</td>\n",
       "      <td>3.08</td>\n",
       "      <td>-73.97</td>\n",
       "      <td>40.77</td>\n",
       "      <td>1.00</td>\n",
       "      <td>-73.96</td>\n",
       "      <td>40.77</td>\n",
       "      <td>13.50</td>\n",
       "      <td>16.00</td>\n",
       "      <td>0 days 00:16:00</td>\n",
       "    </tr>\n",
       "    <tr>\n",
       "      <th>max</th>\n",
       "      <td>14998525.00</td>\n",
       "      <td>6.00</td>\n",
       "      <td>29.88</td>\n",
       "      <td>0.00</td>\n",
       "      <td>40.85</td>\n",
       "      <td>5.00</td>\n",
       "      <td>0.00</td>\n",
       "      <td>40.90</td>\n",
       "      <td>88.50</td>\n",
       "      <td>110.27</td>\n",
       "      <td>0 days 01:33:00</td>\n",
       "    </tr>\n",
       "  </tbody>\n",
       "</table>\n",
       "</div>"
      ],
      "text/plain": [
       "         sample_ID  passenger_count  trip_distance  pickup_longitude  \\\n",
       "count      3186.00          3186.00        3186.00           3186.00   \n",
       "mean    7537165.08             1.68           2.74            -72.96   \n",
       "std     4333409.32             1.34           3.22              8.93   \n",
       "min       10339.00             1.00           0.00           -180.00   \n",
       "25%     3882098.50             1.00           1.00            -73.99   \n",
       "50%     7555203.50             1.00           1.70            -73.98   \n",
       "75%    11268305.00             2.00           3.08            -73.97   \n",
       "max    14998525.00             6.00          29.88              0.00   \n",
       "\n",
       "       pickup_latitude  rate_code  dropoff_longitude  dropoff_latitude  \\\n",
       "count          3186.00    3186.00            3186.00           3186.00   \n",
       "mean             40.11       1.02             -72.82             40.03   \n",
       "std               6.19       0.22               9.48              6.43   \n",
       "min            -180.00       0.00            -180.00           -180.00   \n",
       "25%              40.74       1.00             -73.99             40.73   \n",
       "50%              40.75       1.00             -73.98             40.75   \n",
       "75%              40.77       1.00             -73.96             40.77   \n",
       "max              40.85       5.00               0.00             40.90   \n",
       "\n",
       "       fare_amount  total_amount           trip_duration  \n",
       "count      3186.00       3186.00                    3186  \n",
       "mean         11.76         14.25  0 days 00:12:04.538606  \n",
       "std           9.24         11.25  0 days 00:08:58.906029  \n",
       "min           2.50          3.00         0 days 00:00:00  \n",
       "25%           6.50          7.80         0 days 00:06:00  \n",
       "50%           9.00         10.80         0 days 00:10:00  \n",
       "75%          13.50         16.00         0 days 00:16:00  \n",
       "max          88.50        110.27         0 days 01:33:00  "
      ]
     },
     "execution_count": 70,
     "metadata": {},
     "output_type": "execute_result"
    }
   ],
   "source": [
    "df.describe().round(2)"
   ]
  },
  {
   "cell_type": "markdown",
   "metadata": {},
   "source": [
    "make a df for the object features"
   ]
  },
  {
   "cell_type": "markdown",
   "metadata": {},
   "source": [
    "Action: <br> \n",
    "1. Split the Day value out from the Date <br>\n",
    "2. leave the times in the same format <br>\n",
    "\n",
    "store_and_fwd_flag explanation- <br> \n",
    "This flag indicates whether the trip record was held in vehicle\n",
    "memory before sending to the vendor, aka “store and forward,”\n",
    "because the vehicle did not have a connection to the server"
   ]
  },
  {
   "cell_type": "code",
   "execution_count": null,
   "metadata": {},
   "outputs": [],
   "source": [
    "obj_df['pickup_datetime'] = pd.to_datetime(obj_df['pickup_datetime'], format = '%Y/%m/%d')\n",
    "obj_df['day'] = obj_df['pickup_datetime'].dt.day\n",
    "df.insert(loc = 2, column = 'day', value = int, allow_duplicates = True)\n",
    "df['day'] = obj_df['day']\n",
    "df.head()"
   ]
  },
  {
   "cell_type": "code",
   "execution_count": 78,
   "metadata": {},
   "outputs": [
    {
     "data": {
      "image/png": "[encoded data removed]",
      "text/plain": [
       "<Figure size 1440x1080 with 12 Axes>"
      ]
     },
     "metadata": {
      "needs_background": "light"
     },
     "output_type": "display_data"
    }
   ],
   "source": [
    "df.hist(bins = 25, figsize = (20,15))\n",
    "plt.show()"
   ]
  },
  {
   "cell_type": "code",
   "execution_count": 79,
   "metadata": {
    "collapsed": true
   },
   "outputs": [
    {
     "name": "stderr",
     "output_type": "stream",
     "text": [
      "D:\\Anaconda3\\lib\\site-packages\\scipy\\stats\\stats.py:1713: FutureWarning: Using a non-tuple sequence for multidimensional indexing is deprecated; use `arr[tuple(seq)]` instead of `arr[seq]`. In the future this will be interpreted as an array index, `arr[np.array(seq)]`, which will result either in an error or a different result.\n",
      "  return np.add.reduce(sorted[indexer] * weights, axis=axis) / sumval\n"
     ]
    },
    {
     "ename": "TypeError",
     "evalue": "ufunc 'isnan' not supported for the input types, and the inputs could not be safely coerced to any supported types according to the casting rule ''safe''",
     "output_type": "error",
     "traceback": [
      "\u001b[1;31m---------------------------------------------------------------------------\u001b[0m",
      "\u001b[1;31mTypeError\u001b[0m                                 Traceback (most recent call last)",
      "\u001b[1;32m<ipython-input-79-53ab3d82ba57>\u001b[0m in \u001b[0;36m<module>\u001b[1;34m\u001b[0m\n\u001b[0;32m      1\u001b[0m \u001b[1;32mfrom\u001b[0m \u001b[0mscipy\u001b[0m\u001b[1;33m.\u001b[0m\u001b[0mstats\u001b[0m \u001b[1;32mimport\u001b[0m \u001b[0mnorm\u001b[0m\u001b[1;33m\u001b[0m\u001b[1;33m\u001b[0m\u001b[0m\n\u001b[0;32m      2\u001b[0m \u001b[1;32mimport\u001b[0m \u001b[0mseaborn\u001b[0m \u001b[1;32mas\u001b[0m \u001b[0msns\u001b[0m\u001b[1;33m\u001b[0m\u001b[1;33m\u001b[0m\u001b[0m\n\u001b[1;32m----> 3\u001b[1;33m \u001b[0msns\u001b[0m\u001b[1;33m.\u001b[0m\u001b[0mdistplot\u001b[0m\u001b[1;33m(\u001b[0m\u001b[0mdf\u001b[0m\u001b[1;33m[\u001b[0m\u001b[1;34m\"trip_duration\"\u001b[0m\u001b[1;33m]\u001b[0m\u001b[1;33m,\u001b[0m \u001b[0mfit\u001b[0m\u001b[1;33m=\u001b[0m\u001b[0mnorm\u001b[0m\u001b[1;33m)\u001b[0m\u001b[1;33m\u001b[0m\u001b[1;33m\u001b[0m\u001b[0m\n\u001b[0m",
      "\u001b[1;32mD:\\Anaconda3\\lib\\site-packages\\seaborn\\distributions.py\u001b[0m in \u001b[0;36mdistplot\u001b[1;34m(a, bins, hist, kde, rug, fit, hist_kws, kde_kws, rug_kws, fit_kws, color, vertical, norm_hist, axlabel, label, ax)\u001b[0m\n\u001b[0;32m    223\u001b[0m         \u001b[0mhist_color\u001b[0m \u001b[1;33m=\u001b[0m \u001b[0mhist_kws\u001b[0m\u001b[1;33m.\u001b[0m\u001b[0mpop\u001b[0m\u001b[1;33m(\u001b[0m\u001b[1;34m\"color\"\u001b[0m\u001b[1;33m,\u001b[0m \u001b[0mcolor\u001b[0m\u001b[1;33m)\u001b[0m\u001b[1;33m\u001b[0m\u001b[1;33m\u001b[0m\u001b[0m\n\u001b[0;32m    224\u001b[0m         ax.hist(a, bins, orientation=orientation,\n\u001b[1;32m--> 225\u001b[1;33m                 color=hist_color, **hist_kws)\n\u001b[0m\u001b[0;32m    226\u001b[0m         \u001b[1;32mif\u001b[0m \u001b[0mhist_color\u001b[0m \u001b[1;33m!=\u001b[0m \u001b[0mcolor\u001b[0m\u001b[1;33m:\u001b[0m\u001b[1;33m\u001b[0m\u001b[1;33m\u001b[0m\u001b[0m\n\u001b[0;32m    227\u001b[0m             \u001b[0mhist_kws\u001b[0m\u001b[1;33m[\u001b[0m\u001b[1;34m\"color\"\u001b[0m\u001b[1;33m]\u001b[0m \u001b[1;33m=\u001b[0m \u001b[0mhist_color\u001b[0m\u001b[1;33m\u001b[0m\u001b[1;33m\u001b[0m\u001b[0m\n",
      "\u001b[1;32mD:\\Anaconda3\\lib\\site-packages\\matplotlib\\__init__.py\u001b[0m in \u001b[0;36minner\u001b[1;34m(ax, data, *args, **kwargs)\u001b[0m\n\u001b[0;32m   1808\u001b[0m                         \u001b[1;34m\"the Matplotlib list!)\"\u001b[0m \u001b[1;33m%\u001b[0m \u001b[1;33m(\u001b[0m\u001b[0mlabel_namer\u001b[0m\u001b[1;33m,\u001b[0m \u001b[0mfunc\u001b[0m\u001b[1;33m.\u001b[0m\u001b[0m__name__\u001b[0m\u001b[1;33m)\u001b[0m\u001b[1;33m,\u001b[0m\u001b[1;33m\u001b[0m\u001b[1;33m\u001b[0m\u001b[0m\n\u001b[0;32m   1809\u001b[0m                         RuntimeWarning, stacklevel=2)\n\u001b[1;32m-> 1810\u001b[1;33m             \u001b[1;32mreturn\u001b[0m \u001b[0mfunc\u001b[0m\u001b[1;33m(\u001b[0m\u001b[0max\u001b[0m\u001b[1;33m,\u001b[0m \u001b[1;33m*\u001b[0m\u001b[0margs\u001b[0m\u001b[1;33m,\u001b[0m \u001b[1;33m**\u001b[0m\u001b[0mkwargs\u001b[0m\u001b[1;33m)\u001b[0m\u001b[1;33m\u001b[0m\u001b[1;33m\u001b[0m\u001b[0m\n\u001b[0m\u001b[0;32m   1811\u001b[0m \u001b[1;33m\u001b[0m\u001b[0m\n\u001b[0;32m   1812\u001b[0m         inner.__doc__ = _add_data_doc(inner.__doc__,\n",
      "\u001b[1;32mD:\\Anaconda3\\lib\\site-packages\\matplotlib\\axes\\_axes.py\u001b[0m in \u001b[0;36mhist\u001b[1;34m(self, x, bins, range, density, weights, cumulative, bottom, histtype, align, orientation, rwidth, log, color, label, stacked, normed, **kwargs)\u001b[0m\n\u001b[0;32m   6573\u001b[0m             \u001b[1;32mfor\u001b[0m \u001b[0mxi\u001b[0m \u001b[1;32min\u001b[0m \u001b[0mx\u001b[0m\u001b[1;33m:\u001b[0m\u001b[1;33m\u001b[0m\u001b[1;33m\u001b[0m\u001b[0m\n\u001b[0;32m   6574\u001b[0m                 \u001b[1;32mif\u001b[0m \u001b[0mlen\u001b[0m\u001b[1;33m(\u001b[0m\u001b[0mxi\u001b[0m\u001b[1;33m)\u001b[0m \u001b[1;33m>\u001b[0m \u001b[1;36m0\u001b[0m\u001b[1;33m:\u001b[0m\u001b[1;33m\u001b[0m\u001b[1;33m\u001b[0m\u001b[0m\n\u001b[1;32m-> 6575\u001b[1;33m                     \u001b[0mxmin\u001b[0m \u001b[1;33m=\u001b[0m \u001b[0mmin\u001b[0m\u001b[1;33m(\u001b[0m\u001b[0mxmin\u001b[0m\u001b[1;33m,\u001b[0m \u001b[0mnp\u001b[0m\u001b[1;33m.\u001b[0m\u001b[0mnanmin\u001b[0m\u001b[1;33m(\u001b[0m\u001b[0mxi\u001b[0m\u001b[1;33m)\u001b[0m\u001b[1;33m)\u001b[0m\u001b[1;33m\u001b[0m\u001b[1;33m\u001b[0m\u001b[0m\n\u001b[0m\u001b[0;32m   6576\u001b[0m                     \u001b[0mxmax\u001b[0m \u001b[1;33m=\u001b[0m \u001b[0mmax\u001b[0m\u001b[1;33m(\u001b[0m\u001b[0mxmax\u001b[0m\u001b[1;33m,\u001b[0m \u001b[0mnp\u001b[0m\u001b[1;33m.\u001b[0m\u001b[0mnanmax\u001b[0m\u001b[1;33m(\u001b[0m\u001b[0mxi\u001b[0m\u001b[1;33m)\u001b[0m\u001b[1;33m)\u001b[0m\u001b[1;33m\u001b[0m\u001b[1;33m\u001b[0m\u001b[0m\n\u001b[0;32m   6577\u001b[0m             \u001b[0mbin_range\u001b[0m \u001b[1;33m=\u001b[0m \u001b[1;33m(\u001b[0m\u001b[0mxmin\u001b[0m\u001b[1;33m,\u001b[0m \u001b[0mxmax\u001b[0m\u001b[1;33m)\u001b[0m\u001b[1;33m\u001b[0m\u001b[1;33m\u001b[0m\u001b[0m\n",
      "\u001b[1;32mD:\\Anaconda3\\lib\\site-packages\\numpy\\lib\\nanfunctions.py\u001b[0m in \u001b[0;36mnanmin\u001b[1;34m(a, axis, out, keepdims)\u001b[0m\n\u001b[0;32m    280\u001b[0m         \u001b[1;31m# which do not implement isnan (gh-9009), or fmin correctly (gh-8975)\u001b[0m\u001b[1;33m\u001b[0m\u001b[1;33m\u001b[0m\u001b[1;33m\u001b[0m\u001b[0m\n\u001b[0;32m    281\u001b[0m         \u001b[0mres\u001b[0m \u001b[1;33m=\u001b[0m \u001b[0mnp\u001b[0m\u001b[1;33m.\u001b[0m\u001b[0mfmin\u001b[0m\u001b[1;33m.\u001b[0m\u001b[0mreduce\u001b[0m\u001b[1;33m(\u001b[0m\u001b[0ma\u001b[0m\u001b[1;33m,\u001b[0m \u001b[0maxis\u001b[0m\u001b[1;33m=\u001b[0m\u001b[0maxis\u001b[0m\u001b[1;33m,\u001b[0m \u001b[0mout\u001b[0m\u001b[1;33m=\u001b[0m\u001b[0mout\u001b[0m\u001b[1;33m,\u001b[0m \u001b[1;33m**\u001b[0m\u001b[0mkwargs\u001b[0m\u001b[1;33m)\u001b[0m\u001b[1;33m\u001b[0m\u001b[1;33m\u001b[0m\u001b[0m\n\u001b[1;32m--> 282\u001b[1;33m         \u001b[1;32mif\u001b[0m \u001b[0mnp\u001b[0m\u001b[1;33m.\u001b[0m\u001b[0misnan\u001b[0m\u001b[1;33m(\u001b[0m\u001b[0mres\u001b[0m\u001b[1;33m)\u001b[0m\u001b[1;33m.\u001b[0m\u001b[0many\u001b[0m\u001b[1;33m(\u001b[0m\u001b[1;33m)\u001b[0m\u001b[1;33m:\u001b[0m\u001b[1;33m\u001b[0m\u001b[1;33m\u001b[0m\u001b[0m\n\u001b[0m\u001b[0;32m    283\u001b[0m             \u001b[0mwarnings\u001b[0m\u001b[1;33m.\u001b[0m\u001b[0mwarn\u001b[0m\u001b[1;33m(\u001b[0m\u001b[1;34m\"All-NaN slice encountered\"\u001b[0m\u001b[1;33m,\u001b[0m \u001b[0mRuntimeWarning\u001b[0m\u001b[1;33m,\u001b[0m \u001b[0mstacklevel\u001b[0m\u001b[1;33m=\u001b[0m\u001b[1;36m2\u001b[0m\u001b[1;33m)\u001b[0m\u001b[1;33m\u001b[0m\u001b[1;33m\u001b[0m\u001b[0m\n\u001b[0;32m    284\u001b[0m     \u001b[1;32melse\u001b[0m\u001b[1;33m:\u001b[0m\u001b[1;33m\u001b[0m\u001b[1;33m\u001b[0m\u001b[0m\n",
      "\u001b[1;31mTypeError\u001b[0m: ufunc 'isnan' not supported for the input types, and the inputs could not be safely coerced to any supported types according to the casting rule ''safe''"
     ]
    },
    {
     "data": {
      "image/png": "[encoded data removed]",
      "text/plain": [
       "<Figure size 432x288 with 1 Axes>"
      ]
     },
     "metadata": {
      "needs_background": "light"
     },
     "output_type": "display_data"
    }
   ],
   "source": [
    "from scipy.stats import norm \n",
    "import seaborn as sns\n",
    "sns.distplot(df[\"trip_duration(min)\"], fit=norm)"
   ]
  },
  {
   "cell_type": "markdown",
   "metadata": {},
   "source": [
    "Normal distribution with left border=0"
   ]
  },
  {
   "cell_type": "code",
   "execution_count": null,
   "metadata": {
    "scrolled": true
   },
   "outputs": [],
   "source": [
    "#spliting data trip duration\n",
    "duration_norm_big = df[df[\"trip_duration(min)\"] <= 20] \n",
    "duration_norm_small = df[df[\"trip_duration(min)\"] >= 20] \n",
    "sns.distplot(duration_norm_big[\"trip_duration(min)\"], fit=norm)\n",
    "sns.distplot(duration_norm_small[\"trip_duration(min)\"], fit=norm)"
   ]
  },
  {
   "cell_type": "markdown",
   "metadata": {},
   "source": [
    "On the same variable we got 2 splits that give two normal curves"
   ]
  },
  {
   "cell_type": "markdown",
   "metadata": {},
   "source": [
    "<b>Clip numbers of the avg_temp(F)</b><br>\n",
    "clipping the left and right values- focusing on 30F-80F"
   ]
  },
  {
   "cell_type": "code",
   "execution_count": null,
   "metadata": {},
   "outputs": [],
   "source": [
    "temptrature = np.clip(df['avg_temp(F)'], 30, 80 ) \n",
    "plt.hist(df['avg_temp(F)'], bins=30)\n",
    "plt.hist(temptrature, bins=30, color='red', alpha = 0.5)\n",
    "plt.show()"
   ]
  },
  {
   "cell_type": "markdown",
   "metadata": {},
   "source": [
    "<b>Finding correlations using scatter plots</b>"
   ]
  },
  {
   "cell_type": "code",
   "execution_count": null,
   "metadata": {},
   "outputs": [],
   "source": [
    "df.plot(kind=\"scatter\", x=\"avg_temp(F)\", y=\"trip_duration(min)\", alpha=0.1)"
   ]
  },
  {
   "cell_type": "code",
   "execution_count": null,
   "metadata": {},
   "outputs": [],
   "source": [
    "df.plot(kind=\"scatter\", x=\"avg_temp(F)\", y=\"distance(mile)\", alpha=0.1)"
   ]
  },
  {
   "cell_type": "code",
   "execution_count": null,
   "metadata": {
    "scrolled": true
   },
   "outputs": [],
   "source": [
    "df.precipitate = pd.to_numeric(df['precipitate'], errors='coerce')\n",
    "df.plot(kind=\"scatter\", x=\"precipitate\", y=\"trip_duration(min)\", alpha=0.1)"
   ]
  },
  {
   "cell_type": "code",
   "execution_count": null,
   "metadata": {
    "scrolled": true
   },
   "outputs": [],
   "source": [
    "df.plot(kind=\"scatter\", x=\"snow_fall\", y=\"trip_duration(min)\", alpha=0.1)"
   ]
  },
  {
   "cell_type": "code",
   "execution_count": null,
   "metadata": {},
   "outputs": [],
   "source": [
    "df.plot(kind=\"scatter\", x=\"snow_fall\", y=\"distance(mile)\", alpha=0.1)"
   ]
  },
  {
   "cell_type": "code",
   "execution_count": null,
   "metadata": {},
   "outputs": [],
   "source": [
    "df.plot(kind=\"scatter\", x=\"precipitate\", y=\"distance(mile)\", alpha=0.1)"
   ]
  },
  {
   "cell_type": "code",
   "execution_count": null,
   "metadata": {},
   "outputs": [],
   "source": [
    "df.plot(kind=\"scatter\", x=\"pickup_longitude\", y=\"pickup_latitude\", alpha=0.05)"
   ]
  },
  {
   "cell_type": "code",
   "execution_count": null,
   "metadata": {},
   "outputs": [],
   "source": [
    "df.plot(kind=\"scatter\", x=\"dropoff_longitude\", y=\"dropoff_latitude\", alpha=0.05)"
   ]
  },
  {
   "cell_type": "code",
   "execution_count": null,
   "metadata": {},
   "outputs": [],
   "source": [
    "df['distance(mile)'].astype(float)\n",
    "corr_matrix = df.corr()\n",
    "corr_matrix[\"distance(mile)\"].sort_values(ascending=False)"
   ]
  },
  {
   "cell_type": "code",
   "execution_count": null,
   "metadata": {},
   "outputs": [],
   "source": [
    "df['distance(mile)'].astype(float)\n",
    "corr_matrix = df.corr()\n",
    "corr_matrix[\"distance(mile)\"].sort_values(ascending=False)\n",
    "corr_matrix\n",
    "df['distance(mile)'].corr(df['trip_duration(min)'])"
   ]
  },
  {
   "cell_type": "code",
   "execution_count": null,
   "metadata": {},
   "outputs": [],
   "source": [
    "sns.heatmap(corr_matrix)"
   ]
  },
  {
   "cell_type": "code",
   "execution_count": null,
   "metadata": {},
   "outputs": [],
   "source": [
    "sns.heatmap(corr_matrix[(corr_matrix<1) & ((corr_matrix >= 0.3) | (corr_matrix <= -0.3)) ] )"
   ]
  },
  {
   "cell_type": "code",
   "execution_count": null,
   "metadata": {},
   "outputs": [],
   "source": [
    "#Transform the data to matrix of X and y\n",
    "\n",
    "# 1. Split between X the predictors and y the target\n",
    "y = df['vendor_id']\n",
    "X = df.drop('vendor_id', axis=1)\n",
    "\n",
    "# 2. Turn from data frame to matrix: no indexes, number only\n",
    "X = X.values  # X is a matrix of size 20 * 810\n",
    "y = y.values  # y is a matrix of size 1 * 810, therefore it is a vector\n",
    "\n",
    "# 3. Split X and y togather to train data set 80% and test data set 20%\n",
    "X_train, X_test, y_train, y_test = train_test_split(X, y, test_size=0.2, random_state=7, stratify = y) "
   ]
  },
  {
   "cell_type": "code",
   "execution_count": null,
   "metadata": {},
   "outputs": [],
   "source": [
    "print( 'df type is: ', type(df), '  and X_train type is: ', type(X_train))"
   ]
  },
  {
   "cell_type": "code",
   "execution_count": null,
   "metadata": {},
   "outputs": [],
   "source": [
    "# select a model\n",
    "tree_class = DecisionTreeClassifier()"
   ]
  },
  {
   "cell_type": "code",
   "execution_count": null,
   "metadata": {},
   "outputs": [],
   "source": [
    "tree_class.fit(X_train, y_train)"
   ]
  },
  {
   "cell_type": "code",
   "execution_count": null,
   "metadata": {},
   "outputs": [],
   "source": [
    "#Model evaluation\n",
    "tree_class.score(X=X_test, y=y_test) "
   ]
  },
  {
   "cell_type": "code",
   "execution_count": null,
   "metadata": {},
   "outputs": [],
   "source": [
    "tree_class.score(X=X_train, y=y_train) "
   ]
  },
  {
   "cell_type": "code",
   "execution_count": null,
   "metadata": {},
   "outputs": [],
   "source": [
    "#Predict / Deploy model\n",
    "example = X_test[7:10,]\n",
    "example"
   ]
  },
  {
   "cell_type": "code",
   "execution_count": null,
   "metadata": {},
   "outputs": [],
   "source": [
    "predicted_y = tree_class.predict(X=example)\n",
    "predicted_y"
   ]
  },
  {
   "cell_type": "code",
   "execution_count": null,
   "metadata": {},
   "outputs": [],
   "source": [
    "y_test[7:10,]"
   ]
  },
  {
   "cell_type": "markdown",
   "metadata": {},
   "source": [
    "## Heatmap Module "
   ]
  },
  {
   "cell_type": "code",
   "execution_count": null,
   "metadata": {},
   "outputs": [],
   "source": [
    "!pip install folium\n",
    "import folium\n",
    "from folium import plugins\n",
    "import pandas as pd\n",
    "import matplotlib.pyplot as plt\n",
    "import seaborn as sns\n",
    "\n",
    "%matplotlib inline"
   ]
  },
  {
   "cell_type": "code",
   "execution_count": null,
   "metadata": {},
   "outputs": [],
   "source": [
    "## Pickup Data\n",
    "nyc_map_pickup = folium.Map([40.7306,-73.935242], zoom_start=11)\n",
    "\n",
    "for index, row in df.iterrows():\n",
    "    folium.CircleMarker([row['pickup_latitude'], row['pickup_longitude']],\n",
    "                        radius=1,\n",
    "                        fill=True,\n",
    "                        fill_color=\"blue\", \n",
    "                        fill_opacity=0.005,\n",
    "                       )#.add_to(nyc_map) if you want to add points/markers to the map - does not look well with heatmaps"
   ]
  },
  {
   "cell_type": "code",
   "execution_count": null,
   "metadata": {
    "scrolled": true
   },
   "outputs": [],
   "source": [
    "# convert to (n, 2) nd-array format for heatmap\n",
    "pickupArr = df[['pickup_latitude', 'pickup_longitude']].as_matrix()\n",
    "\n",
    "# plot heatmap\n",
    "nyc_map_pickup.add_child(plugins.HeatMap(pickupArr, radius=15))\n"
   ]
  },
  {
   "cell_type": "code",
   "execution_count": null,
   "metadata": {},
   "outputs": [],
   "source": [
    "## Dropoff Data\n",
    "nyc_map_dropoff = folium.Map([40.7306,-73.935242], zoom_start=11)\n",
    "\n",
    "for index, row in df.iterrows():\n",
    "    folium.CircleMarker([row['dropoff_latitude'], row['dropoff_longitude']],\n",
    "                        radius=1,\n",
    "                        fill=True,\n",
    "                        fill_color=\"blue\", \n",
    "                        fill_opacity=0.005,\n",
    "                       )#.add_to(nyc_map) if you want to add points/markers to the map - does not look well with heatmaps"
   ]
  },
  {
   "cell_type": "code",
   "execution_count": null,
   "metadata": {},
   "outputs": [],
   "source": [
    "dropoffArr = df[['dropoff_latitude', 'dropoff_longitude']].as_matrix()\n",
    "\n",
    "# plot heatmap\n",
    "nyc_map_dropoff.add_child(plugins.HeatMap(dropoffArr, radius=15))"
   ]
  },
  {
   "cell_type": "code",
   "execution_count": null,
   "metadata": {},
   "outputs": [],
   "source": []
  }
 ],
 "metadata": {
  "kernelspec": {
   "display_name": "Python 3",
   "language": "python",
   "name": "python3"
  },
  "language_info": {
   "codemirror_mode": {
    "name": "ipython",
    "version": 3
   },
   "file_extension": ".py",
   "mimetype": "text/x-python",
   "name": "python",
   "nbconvert_exporter": "python",
   "pygments_lexer": "ipython3",
   "version": "3.7.1"
  }
 },
 "nbformat": 4,
 "nbformat_minor": 2
}
