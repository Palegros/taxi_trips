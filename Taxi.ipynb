{
 "cells": [
  {
   "cell_type": "markdown",
   "metadata": {},
   "source": [
    "Guy Gourevitz(g.gourevitz@gmail.com),\n",
    "Peleg Amon(pelegamon5@gmail.com), \n",
    "Ram Penkar (ram.penkar@gmail.com).\n",
    "\n",
    "Data set: Taxi trips https://www.kaggle.com/purna007/intermidiate-data\n",
    "\n",
    "\t1)\tHow does the average travel duration affected by amount of precipitation?\n",
    "\t2)\tHow does the average travel distance affected by the amount of precipitation?\n",
    "\t3)\tHow is the trip duration affected by average temperatures?\n",
    "\t4)\tWhat is the ideal distance of travel to maximise the amount of passengers per hour in rush hour?\n",
    "\n",
    "Who needs to review this data?\n",
    "Taxi drivers, taxi company managers\n",
    "Taxi passangers\n"
   ]
  },
  {
   "cell_type": "code",
   "execution_count": null,
   "metadata": {},
   "outputs": [],
   "source": []
  }
 ],
 "metadata": {
  "kernelspec": {
   "display_name": "Python 3",
   "language": "python",
   "name": "python3"
  },
  "language_info": {
   "codemirror_mode": {
    "name": "ipython",
    "version": 3
   },
   "file_extension": ".py",
   "mimetype": "text/x-python",
   "name": "python",
   "nbconvert_exporter": "python",
   "pygments_lexer": "ipython3",
   "version": "3.7.0"
  }
 },
 "nbformat": 4,
 "nbformat_minor": 2
}
