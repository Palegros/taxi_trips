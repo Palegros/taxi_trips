{
 "cells": [
  {
   "cell_type": "markdown",
   "metadata": {},
   "source": [
    "# Dataset: NYC taxi timings & weather report"
   ]
  },
  {
   "cell_type": "markdown",
   "metadata": {},
   "source": [
    "Business Questions:\n",
    "/change the questions into objectives\n",
    "1)\tTool- How does the average travel duration affect by amount of precipitation? \n",
    "2)\tTool- How does the average travel distance affect by the amount of precipitation? \n",
    "3)\tTool- How is the trip duration affected by average temperatures? \n",
    "4)\tDecision making- What is the ideal distance of travel to maximize the number of passengers per hour in rush hour? \n",
    "The decision will take its place while optimizing the number of taxis during the rush hours. The dision maker could be the general manager of the taxi station.\n",
    "\n",
    "Measurable Target:\n",
    "1. "
   ]
  },
  {
   "cell_type": "code",
   "execution_count": 1,
   "metadata": {},
   "outputs": [],
   "source": [
    "import pandas as pd\n",
    "import numpy as np\n",
    "import IPython.display as display\n",
    "import matplotlib.pyplot as plt \n",
    "import datetime\n",
    "%matplotlib inline \n",
    "from sklearn.model_selection import train_test_split   # This is to prepare the data for the model\n",
    "from sklearn.tree import DecisionTreeClassifier "
   ]
  },
  {
   "cell_type": "code",
   "execution_count": 2,
   "metadata": {},
   "outputs": [],
   "source": [
    "# Read in the CSV file and convert \"T\" to NaN   \n",
    "df=pd.read_csv(r'refined_data.csv',index_col='Unnamed: 0',na_values=\"T\")"
   ]
  },
  {
   "cell_type": "code",
   "execution_count": 3,
   "metadata": {},
   "outputs": [
    {
     "data": {
      "text/html": [
       "<div>\n",
       "<style scoped>\n",
       "    .dataframe tbody tr th:only-of-type {\n",
       "        vertical-align: middle;\n",
       "    }\n",
       "\n",
       "    .dataframe tbody tr th {\n",
       "        vertical-align: top;\n",
       "    }\n",
       "\n",
       "    .dataframe thead th {\n",
       "        text-align: right;\n",
       "    }\n",
       "</style>\n",
       "<table border=\"1\" class=\"dataframe\">\n",
       "  <thead>\n",
       "    <tr style=\"text-align: right;\">\n",
       "      <th></th>\n",
       "      <th>year</th>\n",
       "      <th>month</th>\n",
       "      <th>date</th>\n",
       "      <th>hour</th>\n",
       "      <th>id</th>\n",
       "      <th>vendor_id</th>\n",
       "      <th>pickup_datetime</th>\n",
       "      <th>dropoff_datetime</th>\n",
       "      <th>passenger_count</th>\n",
       "      <th>pickup_longitude</th>\n",
       "      <th>pickup_latitude</th>\n",
       "      <th>dropoff_longitude</th>\n",
       "      <th>dropoff_latitude</th>\n",
       "      <th>store_and_fwd_flag</th>\n",
       "      <th>trip_duration</th>\n",
       "      <th>avg_temp</th>\n",
       "      <th>snow_depth</th>\n",
       "      <th>snow_fall</th>\n",
       "      <th>precipitate</th>\n",
       "      <th>distance</th>\n",
       "    </tr>\n",
       "  </thead>\n",
       "  <tbody>\n",
       "    <tr>\n",
       "      <th>0</th>\n",
       "      <td>2016</td>\n",
       "      <td>3</td>\n",
       "      <td>2016-03-14</td>\n",
       "      <td>17</td>\n",
       "      <td>id2875421</td>\n",
       "      <td>2</td>\n",
       "      <td>2016-03-14 17:24:55</td>\n",
       "      <td>2016-03-14 17:32:30</td>\n",
       "      <td>1</td>\n",
       "      <td>-73.982155</td>\n",
       "      <td>40.767937</td>\n",
       "      <td>-73.964630</td>\n",
       "      <td>40.765602</td>\n",
       "      <td>N</td>\n",
       "      <td>455</td>\n",
       "      <td>45.5</td>\n",
       "      <td>0.0</td>\n",
       "      <td>0.0</td>\n",
       "      <td>0.29</td>\n",
       "      <td>17.679539</td>\n",
       "    </tr>\n",
       "    <tr>\n",
       "      <th>1</th>\n",
       "      <td>2016</td>\n",
       "      <td>6</td>\n",
       "      <td>2016-06-12</td>\n",
       "      <td>0</td>\n",
       "      <td>id2377394</td>\n",
       "      <td>1</td>\n",
       "      <td>2016-06-12 00:43:35</td>\n",
       "      <td>2016-06-12 00:54:38</td>\n",
       "      <td>1</td>\n",
       "      <td>-73.980415</td>\n",
       "      <td>40.738564</td>\n",
       "      <td>-73.999481</td>\n",
       "      <td>40.731152</td>\n",
       "      <td>N</td>\n",
       "      <td>663</td>\n",
       "      <td>72.5</td>\n",
       "      <td>0.0</td>\n",
       "      <td>0.0</td>\n",
       "      <td>0.00</td>\n",
       "      <td>20.455904</td>\n",
       "    </tr>\n",
       "    <tr>\n",
       "      <th>2</th>\n",
       "      <td>2016</td>\n",
       "      <td>4</td>\n",
       "      <td>2016-04-06</td>\n",
       "      <td>19</td>\n",
       "      <td>id3504673</td>\n",
       "      <td>2</td>\n",
       "      <td>2016-04-06 19:32:31</td>\n",
       "      <td>2016-04-06 19:39:40</td>\n",
       "      <td>1</td>\n",
       "      <td>-74.010040</td>\n",
       "      <td>40.719971</td>\n",
       "      <td>-74.012268</td>\n",
       "      <td>40.706718</td>\n",
       "      <td>N</td>\n",
       "      <td>429</td>\n",
       "      <td>39.0</td>\n",
       "      <td>0.0</td>\n",
       "      <td>0.0</td>\n",
       "      <td>0.00</td>\n",
       "      <td>13.438206</td>\n",
       "    </tr>\n",
       "    <tr>\n",
       "      <th>3</th>\n",
       "      <td>2016</td>\n",
       "      <td>3</td>\n",
       "      <td>2016-03-26</td>\n",
       "      <td>13</td>\n",
       "      <td>id2181028</td>\n",
       "      <td>2</td>\n",
       "      <td>2016-03-26 13:30:55</td>\n",
       "      <td>2016-03-26 13:38:10</td>\n",
       "      <td>1</td>\n",
       "      <td>-73.973053</td>\n",
       "      <td>40.793209</td>\n",
       "      <td>-73.972923</td>\n",
       "      <td>40.782520</td>\n",
       "      <td>N</td>\n",
       "      <td>435</td>\n",
       "      <td>46.5</td>\n",
       "      <td>0.0</td>\n",
       "      <td>0.0</td>\n",
       "      <td>0.00</td>\n",
       "      <td>10.689569</td>\n",
       "    </tr>\n",
       "    <tr>\n",
       "      <th>4</th>\n",
       "      <td>2016</td>\n",
       "      <td>1</td>\n",
       "      <td>2016-01-30</td>\n",
       "      <td>22</td>\n",
       "      <td>id0801584</td>\n",
       "      <td>2</td>\n",
       "      <td>2016-01-30 22:01:40</td>\n",
       "      <td>2016-01-30 22:09:03</td>\n",
       "      <td>6</td>\n",
       "      <td>-73.982857</td>\n",
       "      <td>40.742195</td>\n",
       "      <td>-73.992081</td>\n",
       "      <td>40.749184</td>\n",
       "      <td>N</td>\n",
       "      <td>443</td>\n",
       "      <td>33.5</td>\n",
       "      <td>6.0</td>\n",
       "      <td>0.0</td>\n",
       "      <td>0.00</td>\n",
       "      <td>11.572403</td>\n",
       "    </tr>\n",
       "  </tbody>\n",
       "</table>\n",
       "</div>"
      ],
      "text/plain": [
       "   year  month        date  hour         id  vendor_id      pickup_datetime  \\\n",
       "0  2016      3  2016-03-14    17  id2875421          2  2016-03-14 17:24:55   \n",
       "1  2016      6  2016-06-12     0  id2377394          1  2016-06-12 00:43:35   \n",
       "2  2016      4  2016-04-06    19  id3504673          2  2016-04-06 19:32:31   \n",
       "3  2016      3  2016-03-26    13  id2181028          2  2016-03-26 13:30:55   \n",
       "4  2016      1  2016-01-30    22  id0801584          2  2016-01-30 22:01:40   \n",
       "\n",
       "      dropoff_datetime  passenger_count  pickup_longitude  pickup_latitude  \\\n",
       "0  2016-03-14 17:32:30                1        -73.982155        40.767937   \n",
       "1  2016-06-12 00:54:38                1        -73.980415        40.738564   \n",
       "2  2016-04-06 19:39:40                1        -74.010040        40.719971   \n",
       "3  2016-03-26 13:38:10                1        -73.973053        40.793209   \n",
       "4  2016-01-30 22:09:03                6        -73.982857        40.742195   \n",
       "\n",
       "   dropoff_longitude  dropoff_latitude store_and_fwd_flag  trip_duration  \\\n",
       "0         -73.964630         40.765602                  N            455   \n",
       "1         -73.999481         40.731152                  N            663   \n",
       "2         -74.012268         40.706718                  N            429   \n",
       "3         -73.972923         40.782520                  N            435   \n",
       "4         -73.992081         40.749184                  N            443   \n",
       "\n",
       "   avg_temp  snow_depth  snow_fall  precipitate   distance  \n",
       "0      45.5         0.0        0.0         0.29  17.679539  \n",
       "1      72.5         0.0        0.0         0.00  20.455904  \n",
       "2      39.0         0.0        0.0         0.00  13.438206  \n",
       "3      46.5         0.0        0.0         0.00  10.689569  \n",
       "4      33.5         6.0        0.0         0.00  11.572403  "
      ]
     },
     "execution_count": 3,
     "metadata": {},
     "output_type": "execute_result"
    }
   ],
   "source": [
    "df.head()"
   ]
  },
  {
   "cell_type": "code",
   "execution_count": 4,
   "metadata": {},
   "outputs": [
    {
     "name": "stdout",
     "output_type": "stream",
     "text": [
      "<class 'pandas.core.frame.DataFrame'>\n",
      "Int64Index: 945 entries, 0 to 944\n",
      "Data columns (total 20 columns):\n",
      "year                  945 non-null int64\n",
      "month                 945 non-null int64\n",
      "date                  945 non-null object\n",
      "hour                  945 non-null int64\n",
      "id                    945 non-null object\n",
      "vendor_id             945 non-null int64\n",
      "pickup_datetime       945 non-null object\n",
      "dropoff_datetime      945 non-null object\n",
      "passenger_count       945 non-null int64\n",
      "pickup_longitude      945 non-null float64\n",
      "pickup_latitude       945 non-null float64\n",
      "dropoff_longitude     945 non-null float64\n",
      "dropoff_latitude      945 non-null float64\n",
      "store_and_fwd_flag    945 non-null object\n",
      "trip_duration         945 non-null int64\n",
      "avg_temp              945 non-null float64\n",
      "snow_depth            910 non-null float64\n",
      "snow_fall             887 non-null float64\n",
      "precipitate           882 non-null float64\n",
      "distance              945 non-null float64\n",
      "dtypes: float64(9), int64(6), object(5)\n",
      "memory usage: 155.0+ KB\n"
     ]
    }
   ],
   "source": [
    "df.info()"
   ]
  },
  {
   "cell_type": "code",
   "execution_count": 5,
   "metadata": {},
   "outputs": [],
   "source": [
    "#after replacing all the \"T\" to NaN- showing a df of all the rows that contains Ts\n",
    "nan_df=df[df.isnull().any(axis=1)]"
   ]
  },
  {
   "cell_type": "code",
   "execution_count": 6,
   "metadata": {},
   "outputs": [
    {
     "data": {
      "text/plain": [
       "year                  135\n",
       "month                 135\n",
       "date                  135\n",
       "hour                  135\n",
       "id                    135\n",
       "vendor_id             135\n",
       "pickup_datetime       135\n",
       "dropoff_datetime      135\n",
       "passenger_count       135\n",
       "pickup_longitude      135\n",
       "pickup_latitude       135\n",
       "dropoff_longitude     135\n",
       "dropoff_latitude      135\n",
       "store_and_fwd_flag    135\n",
       "trip_duration         135\n",
       "avg_temp              135\n",
       "snow_depth            100\n",
       "snow_fall              77\n",
       "precipitate            72\n",
       "distance              135\n",
       "dtype: int64"
      ]
     },
     "execution_count": 6,
     "metadata": {},
     "output_type": "execute_result"
    }
   ],
   "source": [
    "nan_df.count()"
   ]
  },
  {
   "cell_type": "markdown",
   "metadata": {},
   "source": [
    "copying only the columns that contain Nans <br>\n",
    "using mode() finding the most frequent value in these columns"
   ]
  },
  {
   "cell_type": "code",
   "execution_count": 7,
   "metadata": {},
   "outputs": [
    {
     "data": {
      "text/html": [
       "<div>\n",
       "<style scoped>\n",
       "    .dataframe tbody tr th:only-of-type {\n",
       "        vertical-align: middle;\n",
       "    }\n",
       "\n",
       "    .dataframe tbody tr th {\n",
       "        vertical-align: top;\n",
       "    }\n",
       "\n",
       "    .dataframe thead th {\n",
       "        text-align: right;\n",
       "    }\n",
       "</style>\n",
       "<table border=\"1\" class=\"dataframe\">\n",
       "  <thead>\n",
       "    <tr style=\"text-align: right;\">\n",
       "      <th></th>\n",
       "      <th>snow_depth</th>\n",
       "      <th>snow_fall</th>\n",
       "      <th>precipitate</th>\n",
       "    </tr>\n",
       "  </thead>\n",
       "  <tbody>\n",
       "    <tr>\n",
       "      <th>0</th>\n",
       "      <td>0.0</td>\n",
       "      <td>0.0</td>\n",
       "      <td>0.0</td>\n",
       "    </tr>\n",
       "  </tbody>\n",
       "</table>\n",
       "</div>"
      ],
      "text/plain": [
       "   snow_depth  snow_fall  precipitate\n",
       "0         0.0        0.0          0.0"
      ]
     },
     "execution_count": 7,
     "metadata": {},
     "output_type": "execute_result"
    }
   ],
   "source": [
    "nan_only=nan_df[['snow_depth','snow_fall','precipitate']].copy()\n",
    "nan_only.mode()"
   ]
  },
  {
   "cell_type": "markdown",
   "metadata": {},
   "source": [
    "fill NaN with the most frequent value of each column"
   ]
  },
  {
   "cell_type": "code",
   "execution_count": 8,
   "metadata": {},
   "outputs": [],
   "source": [
    "df = df.fillna(value = 0)"
   ]
  },
  {
   "cell_type": "code",
   "execution_count": 9,
   "metadata": {},
   "outputs": [
    {
     "name": "stdout",
     "output_type": "stream",
     "text": [
      "<class 'pandas.core.frame.DataFrame'>\n",
      "Int64Index: 945 entries, 0 to 944\n",
      "Data columns (total 20 columns):\n",
      "year                  945 non-null int64\n",
      "month                 945 non-null int64\n",
      "date                  945 non-null object\n",
      "hour                  945 non-null int64\n",
      "id                    945 non-null object\n",
      "vendor_id             945 non-null int64\n",
      "pickup_datetime       945 non-null object\n",
      "dropoff_datetime      945 non-null object\n",
      "passenger_count       945 non-null int64\n",
      "pickup_longitude      945 non-null float64\n",
      "pickup_latitude       945 non-null float64\n",
      "dropoff_longitude     945 non-null float64\n",
      "dropoff_latitude      945 non-null float64\n",
      "store_and_fwd_flag    945 non-null object\n",
      "trip_duration         945 non-null int64\n",
      "avg_temp              945 non-null float64\n",
      "snow_depth            945 non-null float64\n",
      "snow_fall             945 non-null float64\n",
      "precipitate           945 non-null float64\n",
      "distance              945 non-null float64\n",
      "dtypes: float64(9), int64(6), object(5)\n",
      "memory usage: 155.0+ KB\n"
     ]
    }
   ],
   "source": [
    "df.info()"
   ]
  },
  {
   "cell_type": "markdown",
   "metadata": {},
   "source": [
    "now we have no Nans in the df"
   ]
  },
  {
   "cell_type": "markdown",
   "metadata": {},
   "source": [
    "<b>Changing the column names</b>"
   ]
  },
  {
   "cell_type": "code",
   "execution_count": 10,
   "metadata": {},
   "outputs": [],
   "source": [
    "df.rename(columns={'trip_duration':'trip_duration(sec)','snow_depth':'snow_depth(inch)',\n",
    "                       'avg_temp':'avg_temp(F)','distance':'distance(mile)'},inplace=True)"
   ]
  },
  {
   "cell_type": "code",
   "execution_count": 11,
   "metadata": {},
   "outputs": [
    {
     "data": {
      "text/html": [
       "<div>\n",
       "<style scoped>\n",
       "    .dataframe tbody tr th:only-of-type {\n",
       "        vertical-align: middle;\n",
       "    }\n",
       "\n",
       "    .dataframe tbody tr th {\n",
       "        vertical-align: top;\n",
       "    }\n",
       "\n",
       "    .dataframe thead th {\n",
       "        text-align: right;\n",
       "    }\n",
       "</style>\n",
       "<table border=\"1\" class=\"dataframe\">\n",
       "  <thead>\n",
       "    <tr style=\"text-align: right;\">\n",
       "      <th></th>\n",
       "      <th>year</th>\n",
       "      <th>month</th>\n",
       "      <th>hour</th>\n",
       "      <th>vendor_id</th>\n",
       "      <th>passenger_count</th>\n",
       "      <th>pickup_longitude</th>\n",
       "      <th>pickup_latitude</th>\n",
       "      <th>dropoff_longitude</th>\n",
       "      <th>dropoff_latitude</th>\n",
       "      <th>trip_duration(sec)</th>\n",
       "      <th>avg_temp(F)</th>\n",
       "      <th>snow_depth(inch)</th>\n",
       "      <th>snow_fall</th>\n",
       "      <th>precipitate</th>\n",
       "      <th>distance(mile)</th>\n",
       "    </tr>\n",
       "  </thead>\n",
       "  <tbody>\n",
       "    <tr>\n",
       "      <th>count</th>\n",
       "      <td>945.0</td>\n",
       "      <td>945.000</td>\n",
       "      <td>945.000</td>\n",
       "      <td>945.000</td>\n",
       "      <td>945.000</td>\n",
       "      <td>945.000</td>\n",
       "      <td>945.000</td>\n",
       "      <td>945.000</td>\n",
       "      <td>945.000</td>\n",
       "      <td>945.000</td>\n",
       "      <td>945.000</td>\n",
       "      <td>945.000</td>\n",
       "      <td>945.000</td>\n",
       "      <td>945.000</td>\n",
       "      <td>945.000</td>\n",
       "    </tr>\n",
       "    <tr>\n",
       "      <th>mean</th>\n",
       "      <td>2016.0</td>\n",
       "      <td>3.577</td>\n",
       "      <td>13.706</td>\n",
       "      <td>1.531</td>\n",
       "      <td>1.671</td>\n",
       "      <td>-73.976</td>\n",
       "      <td>40.752</td>\n",
       "      <td>-73.974</td>\n",
       "      <td>40.753</td>\n",
       "      <td>729.410</td>\n",
       "      <td>51.727</td>\n",
       "      <td>0.411</td>\n",
       "      <td>0.123</td>\n",
       "      <td>0.097</td>\n",
       "      <td>29.271</td>\n",
       "    </tr>\n",
       "    <tr>\n",
       "      <th>std</th>\n",
       "      <td>0.0</td>\n",
       "      <td>1.708</td>\n",
       "      <td>6.378</td>\n",
       "      <td>0.499</td>\n",
       "      <td>1.299</td>\n",
       "      <td>0.033</td>\n",
       "      <td>0.026</td>\n",
       "      <td>0.032</td>\n",
       "      <td>0.030</td>\n",
       "      <td>425.443</td>\n",
       "      <td>16.187</td>\n",
       "      <td>2.412</td>\n",
       "      <td>1.553</td>\n",
       "      <td>0.269</td>\n",
       "      <td>28.134</td>\n",
       "    </tr>\n",
       "    <tr>\n",
       "      <th>min</th>\n",
       "      <td>2016.0</td>\n",
       "      <td>1.000</td>\n",
       "      <td>0.000</td>\n",
       "      <td>1.000</td>\n",
       "      <td>1.000</td>\n",
       "      <td>-74.017</td>\n",
       "      <td>40.641</td>\n",
       "      <td>-74.178</td>\n",
       "      <td>40.577</td>\n",
       "      <td>3.000</td>\n",
       "      <td>7.000</td>\n",
       "      <td>0.000</td>\n",
       "      <td>0.000</td>\n",
       "      <td>0.000</td>\n",
       "      <td>0.000</td>\n",
       "    </tr>\n",
       "    <tr>\n",
       "      <th>25%</th>\n",
       "      <td>2016.0</td>\n",
       "      <td>2.000</td>\n",
       "      <td>9.000</td>\n",
       "      <td>1.000</td>\n",
       "      <td>1.000</td>\n",
       "      <td>-73.992</td>\n",
       "      <td>40.740</td>\n",
       "      <td>-73.991</td>\n",
       "      <td>40.735</td>\n",
       "      <td>401.000</td>\n",
       "      <td>39.500</td>\n",
       "      <td>0.000</td>\n",
       "      <td>0.000</td>\n",
       "      <td>0.000</td>\n",
       "      <td>12.623</td>\n",
       "    </tr>\n",
       "    <tr>\n",
       "      <th>50%</th>\n",
       "      <td>2016.0</td>\n",
       "      <td>4.000</td>\n",
       "      <td>14.000</td>\n",
       "      <td>2.000</td>\n",
       "      <td>1.000</td>\n",
       "      <td>-73.982</td>\n",
       "      <td>40.755</td>\n",
       "      <td>-73.979</td>\n",
       "      <td>40.756</td>\n",
       "      <td>642.000</td>\n",
       "      <td>52.000</td>\n",
       "      <td>0.000</td>\n",
       "      <td>0.000</td>\n",
       "      <td>0.000</td>\n",
       "      <td>20.034</td>\n",
       "    </tr>\n",
       "    <tr>\n",
       "      <th>75%</th>\n",
       "      <td>2016.0</td>\n",
       "      <td>5.000</td>\n",
       "      <td>19.000</td>\n",
       "      <td>2.000</td>\n",
       "      <td>2.000</td>\n",
       "      <td>-73.967</td>\n",
       "      <td>40.768</td>\n",
       "      <td>-73.962</td>\n",
       "      <td>40.771</td>\n",
       "      <td>974.000</td>\n",
       "      <td>64.000</td>\n",
       "      <td>0.000</td>\n",
       "      <td>0.000</td>\n",
       "      <td>0.040</td>\n",
       "      <td>35.902</td>\n",
       "    </tr>\n",
       "    <tr>\n",
       "      <th>max</th>\n",
       "      <td>2016.0</td>\n",
       "      <td>6.000</td>\n",
       "      <td>23.000</td>\n",
       "      <td>2.000</td>\n",
       "      <td>6.000</td>\n",
       "      <td>-73.777</td>\n",
       "      <td>40.850</td>\n",
       "      <td>-73.782</td>\n",
       "      <td>40.886</td>\n",
       "      <td>1988.000</td>\n",
       "      <td>81.500</td>\n",
       "      <td>22.000</td>\n",
       "      <td>27.300</td>\n",
       "      <td>2.310</td>\n",
       "      <td>230.143</td>\n",
       "    </tr>\n",
       "  </tbody>\n",
       "</table>\n",
       "</div>"
      ],
      "text/plain": [
       "         year    month     hour  vendor_id  passenger_count  pickup_longitude  \\\n",
       "count   945.0  945.000  945.000    945.000          945.000           945.000   \n",
       "mean   2016.0    3.577   13.706      1.531            1.671           -73.976   \n",
       "std       0.0    1.708    6.378      0.499            1.299             0.033   \n",
       "min    2016.0    1.000    0.000      1.000            1.000           -74.017   \n",
       "25%    2016.0    2.000    9.000      1.000            1.000           -73.992   \n",
       "50%    2016.0    4.000   14.000      2.000            1.000           -73.982   \n",
       "75%    2016.0    5.000   19.000      2.000            2.000           -73.967   \n",
       "max    2016.0    6.000   23.000      2.000            6.000           -73.777   \n",
       "\n",
       "       pickup_latitude  dropoff_longitude  dropoff_latitude  \\\n",
       "count          945.000            945.000           945.000   \n",
       "mean            40.752            -73.974            40.753   \n",
       "std              0.026              0.032             0.030   \n",
       "min             40.641            -74.178            40.577   \n",
       "25%             40.740            -73.991            40.735   \n",
       "50%             40.755            -73.979            40.756   \n",
       "75%             40.768            -73.962            40.771   \n",
       "max             40.850            -73.782            40.886   \n",
       "\n",
       "       trip_duration(sec)  avg_temp(F)  snow_depth(inch)  snow_fall  \\\n",
       "count             945.000      945.000           945.000    945.000   \n",
       "mean              729.410       51.727             0.411      0.123   \n",
       "std               425.443       16.187             2.412      1.553   \n",
       "min                 3.000        7.000             0.000      0.000   \n",
       "25%               401.000       39.500             0.000      0.000   \n",
       "50%               642.000       52.000             0.000      0.000   \n",
       "75%               974.000       64.000             0.000      0.000   \n",
       "max              1988.000       81.500            22.000     27.300   \n",
       "\n",
       "       precipitate  distance(mile)  \n",
       "count      945.000         945.000  \n",
       "mean         0.097          29.271  \n",
       "std          0.269          28.134  \n",
       "min          0.000           0.000  \n",
       "25%          0.000          12.623  \n",
       "50%          0.000          20.034  \n",
       "75%          0.040          35.902  \n",
       "max          2.310         230.143  "
      ]
     },
     "execution_count": 11,
     "metadata": {},
     "output_type": "execute_result"
    }
   ],
   "source": [
    "df.describe().round(3)"
   ]
  },
  {
   "cell_type": "code",
   "execution_count": 12,
   "metadata": {},
   "outputs": [
    {
     "data": {
      "text/plain": [
       "year                    int64\n",
       "month                   int64\n",
       "date                   object\n",
       "hour                    int64\n",
       "id                     object\n",
       "vendor_id               int64\n",
       "pickup_datetime        object\n",
       "dropoff_datetime       object\n",
       "passenger_count         int64\n",
       "pickup_longitude      float64\n",
       "pickup_latitude       float64\n",
       "dropoff_longitude     float64\n",
       "dropoff_latitude      float64\n",
       "store_and_fwd_flag     object\n",
       "trip_duration(sec)      int64\n",
       "avg_temp(F)           float64\n",
       "snow_depth(inch)      float64\n",
       "snow_fall             float64\n",
       "precipitate           float64\n",
       "distance(mile)        float64\n",
       "dtype: object"
      ]
     },
     "execution_count": 12,
     "metadata": {},
     "output_type": "execute_result"
    }
   ],
   "source": [
    "df.dtypes"
   ]
  },
  {
   "cell_type": "markdown",
   "metadata": {},
   "source": [
    "make a df for the object features"
   ]
  },
  {
   "cell_type": "code",
   "execution_count": 13,
   "metadata": {},
   "outputs": [
    {
     "data": {
      "text/html": [
       "<div>\n",
       "<style scoped>\n",
       "    .dataframe tbody tr th:only-of-type {\n",
       "        vertical-align: middle;\n",
       "    }\n",
       "\n",
       "    .dataframe tbody tr th {\n",
       "        vertical-align: top;\n",
       "    }\n",
       "\n",
       "    .dataframe thead th {\n",
       "        text-align: right;\n",
       "    }\n",
       "</style>\n",
       "<table border=\"1\" class=\"dataframe\">\n",
       "  <thead>\n",
       "    <tr style=\"text-align: right;\">\n",
       "      <th></th>\n",
       "      <th>date</th>\n",
       "      <th>id</th>\n",
       "      <th>pickup_datetime</th>\n",
       "      <th>dropoff_datetime</th>\n",
       "      <th>store_and_fwd_flag</th>\n",
       "    </tr>\n",
       "  </thead>\n",
       "  <tbody>\n",
       "    <tr>\n",
       "      <th>0</th>\n",
       "      <td>2016-03-14</td>\n",
       "      <td>id2875421</td>\n",
       "      <td>2016-03-14 17:24:55</td>\n",
       "      <td>2016-03-14 17:32:30</td>\n",
       "      <td>N</td>\n",
       "    </tr>\n",
       "    <tr>\n",
       "      <th>1</th>\n",
       "      <td>2016-06-12</td>\n",
       "      <td>id2377394</td>\n",
       "      <td>2016-06-12 00:43:35</td>\n",
       "      <td>2016-06-12 00:54:38</td>\n",
       "      <td>N</td>\n",
       "    </tr>\n",
       "    <tr>\n",
       "      <th>2</th>\n",
       "      <td>2016-04-06</td>\n",
       "      <td>id3504673</td>\n",
       "      <td>2016-04-06 19:32:31</td>\n",
       "      <td>2016-04-06 19:39:40</td>\n",
       "      <td>N</td>\n",
       "    </tr>\n",
       "    <tr>\n",
       "      <th>3</th>\n",
       "      <td>2016-03-26</td>\n",
       "      <td>id2181028</td>\n",
       "      <td>2016-03-26 13:30:55</td>\n",
       "      <td>2016-03-26 13:38:10</td>\n",
       "      <td>N</td>\n",
       "    </tr>\n",
       "    <tr>\n",
       "      <th>4</th>\n",
       "      <td>2016-01-30</td>\n",
       "      <td>id0801584</td>\n",
       "      <td>2016-01-30 22:01:40</td>\n",
       "      <td>2016-01-30 22:09:03</td>\n",
       "      <td>N</td>\n",
       "    </tr>\n",
       "    <tr>\n",
       "      <th>5</th>\n",
       "      <td>2016-06-17</td>\n",
       "      <td>id1813257</td>\n",
       "      <td>2016-06-17 22:34:59</td>\n",
       "      <td>2016-06-17 22:40:40</td>\n",
       "      <td>N</td>\n",
       "    </tr>\n",
       "    <tr>\n",
       "      <th>6</th>\n",
       "      <td>2016-05-21</td>\n",
       "      <td>id1324603</td>\n",
       "      <td>2016-05-21 07:54:58</td>\n",
       "      <td>2016-05-21 08:20:49</td>\n",
       "      <td>N</td>\n",
       "    </tr>\n",
       "    <tr>\n",
       "      <th>7</th>\n",
       "      <td>2016-05-27</td>\n",
       "      <td>id1301050</td>\n",
       "      <td>2016-05-27 23:12:23</td>\n",
       "      <td>2016-05-27 23:16:38</td>\n",
       "      <td>N</td>\n",
       "    </tr>\n",
       "    <tr>\n",
       "      <th>8</th>\n",
       "      <td>2016-03-10</td>\n",
       "      <td>id0012891</td>\n",
       "      <td>2016-03-10 21:45:01</td>\n",
       "      <td>2016-03-10 22:05:26</td>\n",
       "      <td>N</td>\n",
       "    </tr>\n",
       "    <tr>\n",
       "      <th>9</th>\n",
       "      <td>2016-05-10</td>\n",
       "      <td>id1436371</td>\n",
       "      <td>2016-05-10 22:08:41</td>\n",
       "      <td>2016-05-10 22:29:55</td>\n",
       "      <td>N</td>\n",
       "    </tr>\n",
       "    <tr>\n",
       "      <th>10</th>\n",
       "      <td>2016-05-15</td>\n",
       "      <td>id1299289</td>\n",
       "      <td>2016-05-15 11:16:11</td>\n",
       "      <td>2016-05-15 11:34:59</td>\n",
       "      <td>N</td>\n",
       "    </tr>\n",
       "    <tr>\n",
       "      <th>11</th>\n",
       "      <td>2016-02-19</td>\n",
       "      <td>id1187965</td>\n",
       "      <td>2016-02-19 09:52:46</td>\n",
       "      <td>2016-02-19 10:11:20</td>\n",
       "      <td>N</td>\n",
       "    </tr>\n",
       "    <tr>\n",
       "      <th>12</th>\n",
       "      <td>2016-06-01</td>\n",
       "      <td>id0799785</td>\n",
       "      <td>2016-06-01 20:58:29</td>\n",
       "      <td>2016-06-01 21:02:49</td>\n",
       "      <td>N</td>\n",
       "    </tr>\n",
       "    <tr>\n",
       "      <th>13</th>\n",
       "      <td>2016-05-27</td>\n",
       "      <td>id2900608</td>\n",
       "      <td>2016-05-27 00:43:36</td>\n",
       "      <td>2016-05-27 01:07:10</td>\n",
       "      <td>N</td>\n",
       "    </tr>\n",
       "    <tr>\n",
       "      <th>14</th>\n",
       "      <td>2016-05-16</td>\n",
       "      <td>id3319787</td>\n",
       "      <td>2016-05-16 15:29:02</td>\n",
       "      <td>2016-05-16 15:32:33</td>\n",
       "      <td>N</td>\n",
       "    </tr>\n",
       "    <tr>\n",
       "      <th>15</th>\n",
       "      <td>2016-04-14</td>\n",
       "      <td>id1154431</td>\n",
       "      <td>2016-04-14 08:48:26</td>\n",
       "      <td>2016-04-14 09:00:37</td>\n",
       "      <td>N</td>\n",
       "    </tr>\n",
       "    <tr>\n",
       "      <th>16</th>\n",
       "      <td>2016-06-27</td>\n",
       "      <td>id3552682</td>\n",
       "      <td>2016-06-27 09:55:13</td>\n",
       "      <td>2016-06-27 10:17:10</td>\n",
       "      <td>N</td>\n",
       "    </tr>\n",
       "    <tr>\n",
       "      <th>17</th>\n",
       "      <td>2016-06-05</td>\n",
       "      <td>id3390316</td>\n",
       "      <td>2016-06-05 13:47:23</td>\n",
       "      <td>2016-06-05 13:51:34</td>\n",
       "      <td>N</td>\n",
       "    </tr>\n",
       "    <tr>\n",
       "      <th>18</th>\n",
       "      <td>2016-02-28</td>\n",
       "      <td>id2070428</td>\n",
       "      <td>2016-02-28 02:23:02</td>\n",
       "      <td>2016-02-28 02:31:08</td>\n",
       "      <td>N</td>\n",
       "    </tr>\n",
       "    <tr>\n",
       "      <th>19</th>\n",
       "      <td>2016-04-01</td>\n",
       "      <td>id0809232</td>\n",
       "      <td>2016-04-01 12:12:25</td>\n",
       "      <td>2016-04-01 12:23:17</td>\n",
       "      <td>N</td>\n",
       "    </tr>\n",
       "    <tr>\n",
       "      <th>20</th>\n",
       "      <td>2016-04-09</td>\n",
       "      <td>id2352683</td>\n",
       "      <td>2016-04-09 03:34:27</td>\n",
       "      <td>2016-04-09 03:41:30</td>\n",
       "      <td>N</td>\n",
       "    </tr>\n",
       "    <tr>\n",
       "      <th>21</th>\n",
       "      <td>2016-06-25</td>\n",
       "      <td>id1603037</td>\n",
       "      <td>2016-06-25 10:36:26</td>\n",
       "      <td>2016-06-25 10:55:49</td>\n",
       "      <td>N</td>\n",
       "    </tr>\n",
       "    <tr>\n",
       "      <th>22</th>\n",
       "      <td>2016-02-14</td>\n",
       "      <td>id0129640</td>\n",
       "      <td>2016-02-14 13:27:56</td>\n",
       "      <td>2016-02-14 13:49:19</td>\n",
       "      <td>N</td>\n",
       "    </tr>\n",
       "    <tr>\n",
       "      <th>23</th>\n",
       "      <td>2016-02-27</td>\n",
       "      <td>id3587298</td>\n",
       "      <td>2016-02-27 21:56:01</td>\n",
       "      <td>2016-02-27 22:14:51</td>\n",
       "      <td>N</td>\n",
       "    </tr>\n",
       "    <tr>\n",
       "      <th>24</th>\n",
       "      <td>2016-06-20</td>\n",
       "      <td>id2104175</td>\n",
       "      <td>2016-06-20 23:07:16</td>\n",
       "      <td>2016-06-20 23:18:50</td>\n",
       "      <td>N</td>\n",
       "    </tr>\n",
       "    <tr>\n",
       "      <th>25</th>\n",
       "      <td>2016-06-13</td>\n",
       "      <td>id3973319</td>\n",
       "      <td>2016-06-13 21:57:27</td>\n",
       "      <td>2016-06-13 22:12:19</td>\n",
       "      <td>N</td>\n",
       "    </tr>\n",
       "    <tr>\n",
       "      <th>26</th>\n",
       "      <td>2016-05-17</td>\n",
       "      <td>id0266980</td>\n",
       "      <td>2016-05-17 10:47:51</td>\n",
       "      <td>2016-05-17 11:12:30</td>\n",
       "      <td>N</td>\n",
       "    </tr>\n",
       "    <tr>\n",
       "      <th>27</th>\n",
       "      <td>2016-05-21</td>\n",
       "      <td>id2822549</td>\n",
       "      <td>2016-05-21 13:03:24</td>\n",
       "      <td>2016-05-21 13:20:52</td>\n",
       "      <td>N</td>\n",
       "    </tr>\n",
       "    <tr>\n",
       "      <th>28</th>\n",
       "      <td>2016-05-10</td>\n",
       "      <td>id3075902</td>\n",
       "      <td>2016-05-10 19:27:38</td>\n",
       "      <td>2016-05-10 19:44:40</td>\n",
       "      <td>N</td>\n",
       "    </tr>\n",
       "    <tr>\n",
       "      <th>29</th>\n",
       "      <td>2016-01-09</td>\n",
       "      <td>id3970352</td>\n",
       "      <td>2016-01-09 12:55:35</td>\n",
       "      <td>2016-01-09 13:07:22</td>\n",
       "      <td>N</td>\n",
       "    </tr>\n",
       "    <tr>\n",
       "      <th>...</th>\n",
       "      <td>...</td>\n",
       "      <td>...</td>\n",
       "      <td>...</td>\n",
       "      <td>...</td>\n",
       "      <td>...</td>\n",
       "    </tr>\n",
       "    <tr>\n",
       "      <th>915</th>\n",
       "      <td>2016-03-24</td>\n",
       "      <td>id3105039</td>\n",
       "      <td>2016-03-24 18:30:07</td>\n",
       "      <td>2016-03-24 18:32:10</td>\n",
       "      <td>N</td>\n",
       "    </tr>\n",
       "    <tr>\n",
       "      <th>916</th>\n",
       "      <td>2016-04-08</td>\n",
       "      <td>id2299069</td>\n",
       "      <td>2016-04-08 00:26:47</td>\n",
       "      <td>2016-04-08 00:35:37</td>\n",
       "      <td>N</td>\n",
       "    </tr>\n",
       "    <tr>\n",
       "      <th>917</th>\n",
       "      <td>2016-06-25</td>\n",
       "      <td>id2470556</td>\n",
       "      <td>2016-06-25 11:01:21</td>\n",
       "      <td>2016-06-25 11:18:26</td>\n",
       "      <td>N</td>\n",
       "    </tr>\n",
       "    <tr>\n",
       "      <th>918</th>\n",
       "      <td>2016-06-16</td>\n",
       "      <td>id3660750</td>\n",
       "      <td>2016-06-16 14:10:08</td>\n",
       "      <td>2016-06-16 14:15:12</td>\n",
       "      <td>N</td>\n",
       "    </tr>\n",
       "    <tr>\n",
       "      <th>919</th>\n",
       "      <td>2016-02-05</td>\n",
       "      <td>id0627179</td>\n",
       "      <td>2016-02-05 05:48:08</td>\n",
       "      <td>2016-02-05 05:56:46</td>\n",
       "      <td>N</td>\n",
       "    </tr>\n",
       "    <tr>\n",
       "      <th>920</th>\n",
       "      <td>2016-03-17</td>\n",
       "      <td>id2743455</td>\n",
       "      <td>2016-03-17 20:33:17</td>\n",
       "      <td>2016-03-17 20:40:44</td>\n",
       "      <td>N</td>\n",
       "    </tr>\n",
       "    <tr>\n",
       "      <th>921</th>\n",
       "      <td>2016-04-18</td>\n",
       "      <td>id3481094</td>\n",
       "      <td>2016-04-18 17:23:58</td>\n",
       "      <td>2016-04-18 17:27:22</td>\n",
       "      <td>N</td>\n",
       "    </tr>\n",
       "    <tr>\n",
       "      <th>922</th>\n",
       "      <td>2016-02-19</td>\n",
       "      <td>id1240888</td>\n",
       "      <td>2016-02-19 12:29:56</td>\n",
       "      <td>2016-02-19 12:40:48</td>\n",
       "      <td>N</td>\n",
       "    </tr>\n",
       "    <tr>\n",
       "      <th>923</th>\n",
       "      <td>2016-03-13</td>\n",
       "      <td>id1850357</td>\n",
       "      <td>2016-03-13 19:38:04</td>\n",
       "      <td>2016-03-13 19:52:20</td>\n",
       "      <td>N</td>\n",
       "    </tr>\n",
       "    <tr>\n",
       "      <th>924</th>\n",
       "      <td>2016-05-01</td>\n",
       "      <td>id1282615</td>\n",
       "      <td>2016-05-01 11:49:32</td>\n",
       "      <td>2016-05-01 11:54:59</td>\n",
       "      <td>N</td>\n",
       "    </tr>\n",
       "    <tr>\n",
       "      <th>925</th>\n",
       "      <td>2016-01-18</td>\n",
       "      <td>id3600299</td>\n",
       "      <td>2016-01-18 15:52:47</td>\n",
       "      <td>2016-01-18 16:01:42</td>\n",
       "      <td>N</td>\n",
       "    </tr>\n",
       "    <tr>\n",
       "      <th>926</th>\n",
       "      <td>2016-04-24</td>\n",
       "      <td>id0671052</td>\n",
       "      <td>2016-04-24 00:19:46</td>\n",
       "      <td>2016-04-24 00:25:32</td>\n",
       "      <td>N</td>\n",
       "    </tr>\n",
       "    <tr>\n",
       "      <th>927</th>\n",
       "      <td>2016-01-04</td>\n",
       "      <td>id0702699</td>\n",
       "      <td>2016-01-04 21:09:10</td>\n",
       "      <td>2016-01-04 21:19:26</td>\n",
       "      <td>N</td>\n",
       "    </tr>\n",
       "    <tr>\n",
       "      <th>928</th>\n",
       "      <td>2016-04-08</td>\n",
       "      <td>id0862403</td>\n",
       "      <td>2016-04-08 07:05:14</td>\n",
       "      <td>2016-04-08 07:19:43</td>\n",
       "      <td>N</td>\n",
       "    </tr>\n",
       "    <tr>\n",
       "      <th>929</th>\n",
       "      <td>2016-01-12</td>\n",
       "      <td>id1442956</td>\n",
       "      <td>2016-01-12 09:07:30</td>\n",
       "      <td>2016-01-12 09:30:52</td>\n",
       "      <td>N</td>\n",
       "    </tr>\n",
       "    <tr>\n",
       "      <th>930</th>\n",
       "      <td>2016-06-16</td>\n",
       "      <td>id1774111</td>\n",
       "      <td>2016-06-16 08:38:03</td>\n",
       "      <td>2016-06-16 08:45:24</td>\n",
       "      <td>N</td>\n",
       "    </tr>\n",
       "    <tr>\n",
       "      <th>931</th>\n",
       "      <td>2016-04-11</td>\n",
       "      <td>id1333989</td>\n",
       "      <td>2016-04-11 10:59:10</td>\n",
       "      <td>2016-04-11 11:05:30</td>\n",
       "      <td>N</td>\n",
       "    </tr>\n",
       "    <tr>\n",
       "      <th>932</th>\n",
       "      <td>2016-05-25</td>\n",
       "      <td>id3812910</td>\n",
       "      <td>2016-05-25 13:50:26</td>\n",
       "      <td>2016-05-25 13:59:58</td>\n",
       "      <td>N</td>\n",
       "    </tr>\n",
       "    <tr>\n",
       "      <th>933</th>\n",
       "      <td>2016-05-20</td>\n",
       "      <td>id3740726</td>\n",
       "      <td>2016-05-20 10:53:52</td>\n",
       "      <td>2016-05-20 11:15:35</td>\n",
       "      <td>N</td>\n",
       "    </tr>\n",
       "    <tr>\n",
       "      <th>934</th>\n",
       "      <td>2016-01-26</td>\n",
       "      <td>id3030554</td>\n",
       "      <td>2016-01-26 02:01:09</td>\n",
       "      <td>2016-01-26 02:24:31</td>\n",
       "      <td>N</td>\n",
       "    </tr>\n",
       "    <tr>\n",
       "      <th>935</th>\n",
       "      <td>2016-03-17</td>\n",
       "      <td>id2891699</td>\n",
       "      <td>2016-03-17 11:51:09</td>\n",
       "      <td>2016-03-17 12:09:37</td>\n",
       "      <td>N</td>\n",
       "    </tr>\n",
       "    <tr>\n",
       "      <th>936</th>\n",
       "      <td>2016-02-24</td>\n",
       "      <td>id3498529</td>\n",
       "      <td>2016-02-24 16:25:29</td>\n",
       "      <td>2016-02-24 16:30:04</td>\n",
       "      <td>N</td>\n",
       "    </tr>\n",
       "    <tr>\n",
       "      <th>937</th>\n",
       "      <td>2016-02-13</td>\n",
       "      <td>id0244668</td>\n",
       "      <td>2016-02-13 21:41:23</td>\n",
       "      <td>2016-02-13 21:53:40</td>\n",
       "      <td>N</td>\n",
       "    </tr>\n",
       "    <tr>\n",
       "      <th>938</th>\n",
       "      <td>2016-03-29</td>\n",
       "      <td>id1963642</td>\n",
       "      <td>2016-03-29 14:46:36</td>\n",
       "      <td>2016-03-29 15:06:37</td>\n",
       "      <td>N</td>\n",
       "    </tr>\n",
       "    <tr>\n",
       "      <th>939</th>\n",
       "      <td>2016-04-26</td>\n",
       "      <td>id1913200</td>\n",
       "      <td>2016-04-26 08:25:01</td>\n",
       "      <td>2016-04-26 08:52:06</td>\n",
       "      <td>N</td>\n",
       "    </tr>\n",
       "    <tr>\n",
       "      <th>940</th>\n",
       "      <td>2016-02-09</td>\n",
       "      <td>id3877674</td>\n",
       "      <td>2016-02-09 20:42:41</td>\n",
       "      <td>2016-02-09 21:06:45</td>\n",
       "      <td>N</td>\n",
       "    </tr>\n",
       "    <tr>\n",
       "      <th>941</th>\n",
       "      <td>2016-05-09</td>\n",
       "      <td>id3892641</td>\n",
       "      <td>2016-05-09 20:18:42</td>\n",
       "      <td>2016-05-09 20:26:11</td>\n",
       "      <td>N</td>\n",
       "    </tr>\n",
       "    <tr>\n",
       "      <th>942</th>\n",
       "      <td>2016-04-02</td>\n",
       "      <td>id2287030</td>\n",
       "      <td>2016-04-02 00:00:33</td>\n",
       "      <td>2016-04-02 00:03:23</td>\n",
       "      <td>N</td>\n",
       "    </tr>\n",
       "    <tr>\n",
       "      <th>943</th>\n",
       "      <td>2016-03-21</td>\n",
       "      <td>id0838992</td>\n",
       "      <td>2016-03-21 12:58:05</td>\n",
       "      <td>2016-03-21 13:06:25</td>\n",
       "      <td>N</td>\n",
       "    </tr>\n",
       "    <tr>\n",
       "      <th>944</th>\n",
       "      <td>2016-05-08</td>\n",
       "      <td>id2551093</td>\n",
       "      <td>2016-05-08 10:59:20</td>\n",
       "      <td>2016-05-08 11:07:30</td>\n",
       "      <td>N</td>\n",
       "    </tr>\n",
       "  </tbody>\n",
       "</table>\n",
       "<p>945 rows × 5 columns</p>\n",
       "</div>"
      ],
      "text/plain": [
       "           date         id      pickup_datetime     dropoff_datetime  \\\n",
       "0    2016-03-14  id2875421  2016-03-14 17:24:55  2016-03-14 17:32:30   \n",
       "1    2016-06-12  id2377394  2016-06-12 00:43:35  2016-06-12 00:54:38   \n",
       "2    2016-04-06  id3504673  2016-04-06 19:32:31  2016-04-06 19:39:40   \n",
       "3    2016-03-26  id2181028  2016-03-26 13:30:55  2016-03-26 13:38:10   \n",
       "4    2016-01-30  id0801584  2016-01-30 22:01:40  2016-01-30 22:09:03   \n",
       "5    2016-06-17  id1813257  2016-06-17 22:34:59  2016-06-17 22:40:40   \n",
       "6    2016-05-21  id1324603  2016-05-21 07:54:58  2016-05-21 08:20:49   \n",
       "7    2016-05-27  id1301050  2016-05-27 23:12:23  2016-05-27 23:16:38   \n",
       "8    2016-03-10  id0012891  2016-03-10 21:45:01  2016-03-10 22:05:26   \n",
       "9    2016-05-10  id1436371  2016-05-10 22:08:41  2016-05-10 22:29:55   \n",
       "10   2016-05-15  id1299289  2016-05-15 11:16:11  2016-05-15 11:34:59   \n",
       "11   2016-02-19  id1187965  2016-02-19 09:52:46  2016-02-19 10:11:20   \n",
       "12   2016-06-01  id0799785  2016-06-01 20:58:29  2016-06-01 21:02:49   \n",
       "13   2016-05-27  id2900608  2016-05-27 00:43:36  2016-05-27 01:07:10   \n",
       "14   2016-05-16  id3319787  2016-05-16 15:29:02  2016-05-16 15:32:33   \n",
       "15   2016-04-14  id1154431  2016-04-14 08:48:26  2016-04-14 09:00:37   \n",
       "16   2016-06-27  id3552682  2016-06-27 09:55:13  2016-06-27 10:17:10   \n",
       "17   2016-06-05  id3390316  2016-06-05 13:47:23  2016-06-05 13:51:34   \n",
       "18   2016-02-28  id2070428  2016-02-28 02:23:02  2016-02-28 02:31:08   \n",
       "19   2016-04-01  id0809232  2016-04-01 12:12:25  2016-04-01 12:23:17   \n",
       "20   2016-04-09  id2352683  2016-04-09 03:34:27  2016-04-09 03:41:30   \n",
       "21   2016-06-25  id1603037  2016-06-25 10:36:26  2016-06-25 10:55:49   \n",
       "22   2016-02-14  id0129640  2016-02-14 13:27:56  2016-02-14 13:49:19   \n",
       "23   2016-02-27  id3587298  2016-02-27 21:56:01  2016-02-27 22:14:51   \n",
       "24   2016-06-20  id2104175  2016-06-20 23:07:16  2016-06-20 23:18:50   \n",
       "25   2016-06-13  id3973319  2016-06-13 21:57:27  2016-06-13 22:12:19   \n",
       "26   2016-05-17  id0266980  2016-05-17 10:47:51  2016-05-17 11:12:30   \n",
       "27   2016-05-21  id2822549  2016-05-21 13:03:24  2016-05-21 13:20:52   \n",
       "28   2016-05-10  id3075902  2016-05-10 19:27:38  2016-05-10 19:44:40   \n",
       "29   2016-01-09  id3970352  2016-01-09 12:55:35  2016-01-09 13:07:22   \n",
       "..          ...        ...                  ...                  ...   \n",
       "915  2016-03-24  id3105039  2016-03-24 18:30:07  2016-03-24 18:32:10   \n",
       "916  2016-04-08  id2299069  2016-04-08 00:26:47  2016-04-08 00:35:37   \n",
       "917  2016-06-25  id2470556  2016-06-25 11:01:21  2016-06-25 11:18:26   \n",
       "918  2016-06-16  id3660750  2016-06-16 14:10:08  2016-06-16 14:15:12   \n",
       "919  2016-02-05  id0627179  2016-02-05 05:48:08  2016-02-05 05:56:46   \n",
       "920  2016-03-17  id2743455  2016-03-17 20:33:17  2016-03-17 20:40:44   \n",
       "921  2016-04-18  id3481094  2016-04-18 17:23:58  2016-04-18 17:27:22   \n",
       "922  2016-02-19  id1240888  2016-02-19 12:29:56  2016-02-19 12:40:48   \n",
       "923  2016-03-13  id1850357  2016-03-13 19:38:04  2016-03-13 19:52:20   \n",
       "924  2016-05-01  id1282615  2016-05-01 11:49:32  2016-05-01 11:54:59   \n",
       "925  2016-01-18  id3600299  2016-01-18 15:52:47  2016-01-18 16:01:42   \n",
       "926  2016-04-24  id0671052  2016-04-24 00:19:46  2016-04-24 00:25:32   \n",
       "927  2016-01-04  id0702699  2016-01-04 21:09:10  2016-01-04 21:19:26   \n",
       "928  2016-04-08  id0862403  2016-04-08 07:05:14  2016-04-08 07:19:43   \n",
       "929  2016-01-12  id1442956  2016-01-12 09:07:30  2016-01-12 09:30:52   \n",
       "930  2016-06-16  id1774111  2016-06-16 08:38:03  2016-06-16 08:45:24   \n",
       "931  2016-04-11  id1333989  2016-04-11 10:59:10  2016-04-11 11:05:30   \n",
       "932  2016-05-25  id3812910  2016-05-25 13:50:26  2016-05-25 13:59:58   \n",
       "933  2016-05-20  id3740726  2016-05-20 10:53:52  2016-05-20 11:15:35   \n",
       "934  2016-01-26  id3030554  2016-01-26 02:01:09  2016-01-26 02:24:31   \n",
       "935  2016-03-17  id2891699  2016-03-17 11:51:09  2016-03-17 12:09:37   \n",
       "936  2016-02-24  id3498529  2016-02-24 16:25:29  2016-02-24 16:30:04   \n",
       "937  2016-02-13  id0244668  2016-02-13 21:41:23  2016-02-13 21:53:40   \n",
       "938  2016-03-29  id1963642  2016-03-29 14:46:36  2016-03-29 15:06:37   \n",
       "939  2016-04-26  id1913200  2016-04-26 08:25:01  2016-04-26 08:52:06   \n",
       "940  2016-02-09  id3877674  2016-02-09 20:42:41  2016-02-09 21:06:45   \n",
       "941  2016-05-09  id3892641  2016-05-09 20:18:42  2016-05-09 20:26:11   \n",
       "942  2016-04-02  id2287030  2016-04-02 00:00:33  2016-04-02 00:03:23   \n",
       "943  2016-03-21  id0838992  2016-03-21 12:58:05  2016-03-21 13:06:25   \n",
       "944  2016-05-08  id2551093  2016-05-08 10:59:20  2016-05-08 11:07:30   \n",
       "\n",
       "    store_and_fwd_flag  \n",
       "0                    N  \n",
       "1                    N  \n",
       "2                    N  \n",
       "3                    N  \n",
       "4                    N  \n",
       "5                    N  \n",
       "6                    N  \n",
       "7                    N  \n",
       "8                    N  \n",
       "9                    N  \n",
       "10                   N  \n",
       "11                   N  \n",
       "12                   N  \n",
       "13                   N  \n",
       "14                   N  \n",
       "15                   N  \n",
       "16                   N  \n",
       "17                   N  \n",
       "18                   N  \n",
       "19                   N  \n",
       "20                   N  \n",
       "21                   N  \n",
       "22                   N  \n",
       "23                   N  \n",
       "24                   N  \n",
       "25                   N  \n",
       "26                   N  \n",
       "27                   N  \n",
       "28                   N  \n",
       "29                   N  \n",
       "..                 ...  \n",
       "915                  N  \n",
       "916                  N  \n",
       "917                  N  \n",
       "918                  N  \n",
       "919                  N  \n",
       "920                  N  \n",
       "921                  N  \n",
       "922                  N  \n",
       "923                  N  \n",
       "924                  N  \n",
       "925                  N  \n",
       "926                  N  \n",
       "927                  N  \n",
       "928                  N  \n",
       "929                  N  \n",
       "930                  N  \n",
       "931                  N  \n",
       "932                  N  \n",
       "933                  N  \n",
       "934                  N  \n",
       "935                  N  \n",
       "936                  N  \n",
       "937                  N  \n",
       "938                  N  \n",
       "939                  N  \n",
       "940                  N  \n",
       "941                  N  \n",
       "942                  N  \n",
       "943                  N  \n",
       "944                  N  \n",
       "\n",
       "[945 rows x 5 columns]"
      ]
     },
     "execution_count": 13,
     "metadata": {},
     "output_type": "execute_result"
    }
   ],
   "source": [
    "obj_df = df.select_dtypes(include=['object']).copy()\n",
    "obj_df"
   ]
  },
  {
   "cell_type": "markdown",
   "metadata": {},
   "source": [
    "Split the Day value out from the Date"
   ]
  },
  {
   "cell_type": "code",
   "execution_count": 14,
   "metadata": {},
   "outputs": [],
   "source": [
    "df.date=df.date.astype(str)\n",
    "# df['Day']=[d.split('-')[2] for d in df.Date]"
   ]
  },
  {
   "cell_type": "code",
   "execution_count": 62,
   "metadata": {},
   "outputs": [
    {
     "data": {
      "image/png": "[encoded data removed]",
      "text/plain": [
       "<Figure size 1440x1080 with 16 Axes>"
      ]
     },
     "metadata": {
      "needs_background": "light"
     },
     "output_type": "display_data"
    }
   ],
   "source": [
    "df.hist(bins = 50, figsize = (20,15))\n",
    "plt.show()"
   ]
  },
  {
   "cell_type": "code",
   "execution_count": 16,
   "metadata": {},
   "outputs": [],
   "source": [
    "#separate data in columns: pickup_datetime, dropoff_datetime, \n",
    "#change col trip_duration from seconds to minutes\n",
    "#change col avg_temp from fahrenheit to celsius by this formula: (F-32)*(5/9)"
   ]
  },
  {
   "cell_type": "code",
   "execution_count": 37,
   "metadata": {},
   "outputs": [
    {
     "name": "stderr",
     "output_type": "stream",
     "text": [
      "/Users/rampenkar/anaconda3/lib/python3.7/site-packages/scipy/stats/stats.py:1713: FutureWarning: Using a non-tuple sequence for multidimensional indexing is deprecated; use `arr[tuple(seq)]` instead of `arr[seq]`. In the future this will be interpreted as an array index, `arr[np.array(seq)]`, which will result either in an error or a different result.\n",
      "  return np.add.reduce(sorted[indexer] * weights, axis=axis) / sumval\n"
     ]
    },
    {
     "data": {
      "text/plain": [
       "<matplotlib.axes._subplots.AxesSubplot at 0x1a242a1fd0>"
      ]
     },
     "execution_count": 37,
     "metadata": {},
     "output_type": "execute_result"
    },
    {
     "data": {
      "image/png": "[encoded data removed]",
      "text/plain": [
       "<Figure size 432x288 with 1 Axes>"
      ]
     },
     "metadata": {
      "needs_background": "light"
     },
     "output_type": "display_data"
    }
   ],
   "source": [
    "from scipy.stats import norm \n",
    "import seaborn as sns\n",
    "sns.distplot(df[\"trip_duration(sec)\"], fit=norm)"
   ]
  },
  {
   "cell_type": "code",
   "execution_count": 54,
   "metadata": {
    "scrolled": true
   },
   "outputs": [
    {
     "name": "stderr",
     "output_type": "stream",
     "text": [
      "/Users/rampenkar/anaconda3/lib/python3.7/site-packages/scipy/stats/stats.py:1713: FutureWarning: Using a non-tuple sequence for multidimensional indexing is deprecated; use `arr[tuple(seq)]` instead of `arr[seq]`. In the future this will be interpreted as an array index, `arr[np.array(seq)]`, which will result either in an error or a different result.\n",
      "  return np.add.reduce(sorted[indexer] * weights, axis=axis) / sumval\n"
     ]
    },
    {
     "data": {
      "text/plain": [
       "<matplotlib.axes._subplots.AxesSubplot at 0x1a2602c400>"
      ]
     },
     "execution_count": 54,
     "metadata": {},
     "output_type": "execute_result"
    },
    {
     "data": {
      "image/png": "[encoded data removed]",
      "text/plain": [
       "<Figure size 432x288 with 1 Axes>"
      ]
     },
     "metadata": {
      "needs_background": "light"
     },
     "output_type": "display_data"
    }
   ],
   "source": [
    "#spliting data trip duration\n",
    "duration_norm_big = df[df[\"trip_duration(sec)\"] <= 1200] \n",
    "duration_norm_small = df[df[\"trip_duration(sec)\"] >= 1200] \n",
    "sns.distplot(duration_norm_big[\"trip_duration(sec)\"], fit=norm)\n",
    "sns.distplot(duration_norm_small[\"trip_duration(sec)\"], fit=norm)"
   ]
  },
  {
   "cell_type": "code",
   "execution_count": 64,
   "metadata": {},
   "outputs": [
    {
     "data": {
      "image/png": "[encoded data removed]",
      "text/plain": [
       "<Figure size 432x288 with 1 Axes>"
      ]
     },
     "metadata": {
      "needs_background": "light"
     },
     "output_type": "display_data"
    }
   ],
   "source": [
    "#squr for distance of trip\n",
    "temptrature = np.clip(df['avg_temp(F)'], 30, 80 )\n",
    "plt.hist(df['avg_temp(F)'], bins=30)\n",
    "plt.hist(temptrature, bins=30, color='red', alpha = 0.5)\n",
    "plt.show()"
   ]
  },
  {
   "cell_type": "code",
   "execution_count": 17,
   "metadata": {
    "scrolled": true
   },
   "outputs": [
    {
     "name": "stdout",
     "output_type": "stream",
     "text": [
      "<class 'pandas.core.frame.DataFrame'>\n",
      "Int64Index: 945 entries, 0 to 944\n",
      "Data columns (total 15 columns):\n",
      "year                  945 non-null int64\n",
      "month                 945 non-null int64\n",
      "hour                  945 non-null int64\n",
      "vendor_id             945 non-null int64\n",
      "passenger_count       945 non-null int64\n",
      "pickup_longitude      945 non-null float64\n",
      "pickup_latitude       945 non-null float64\n",
      "dropoff_longitude     945 non-null float64\n",
      "dropoff_latitude      945 non-null float64\n",
      "trip_duration(sec)    945 non-null int64\n",
      "avg_temp(F)           945 non-null float64\n",
      "snow_depth(inch)      945 non-null float64\n",
      "snow_fall             945 non-null float64\n",
      "precipitate           945 non-null float64\n",
      "distance(mile)        945 non-null float64\n",
      "dtypes: float64(9), int64(6)\n",
      "memory usage: 118.1 KB\n"
     ]
    },
    {
     "data": {
      "text/html": [
       "<div>\n",
       "<style scoped>\n",
       "    .dataframe tbody tr th:only-of-type {\n",
       "        vertical-align: middle;\n",
       "    }\n",
       "\n",
       "    .dataframe tbody tr th {\n",
       "        vertical-align: top;\n",
       "    }\n",
       "\n",
       "    .dataframe thead th {\n",
       "        text-align: right;\n",
       "    }\n",
       "</style>\n",
       "<table border=\"1\" class=\"dataframe\">\n",
       "  <thead>\n",
       "    <tr style=\"text-align: right;\">\n",
       "      <th></th>\n",
       "      <th>year</th>\n",
       "      <th>month</th>\n",
       "      <th>hour</th>\n",
       "      <th>vendor_id</th>\n",
       "      <th>passenger_count</th>\n",
       "      <th>pickup_longitude</th>\n",
       "      <th>pickup_latitude</th>\n",
       "      <th>dropoff_longitude</th>\n",
       "      <th>dropoff_latitude</th>\n",
       "      <th>trip_duration(sec)</th>\n",
       "      <th>avg_temp(F)</th>\n",
       "      <th>snow_depth(inch)</th>\n",
       "      <th>snow_fall</th>\n",
       "      <th>precipitate</th>\n",
       "      <th>distance(mile)</th>\n",
       "    </tr>\n",
       "  </thead>\n",
       "  <tbody>\n",
       "    <tr>\n",
       "      <th>0</th>\n",
       "      <td>2016</td>\n",
       "      <td>3</td>\n",
       "      <td>17</td>\n",
       "      <td>2</td>\n",
       "      <td>1</td>\n",
       "      <td>-73.982155</td>\n",
       "      <td>40.767937</td>\n",
       "      <td>-73.964630</td>\n",
       "      <td>40.765602</td>\n",
       "      <td>455</td>\n",
       "      <td>45.5</td>\n",
       "      <td>0.0</td>\n",
       "      <td>0.0</td>\n",
       "      <td>0.29</td>\n",
       "      <td>17.679539</td>\n",
       "    </tr>\n",
       "    <tr>\n",
       "      <th>1</th>\n",
       "      <td>2016</td>\n",
       "      <td>6</td>\n",
       "      <td>0</td>\n",
       "      <td>1</td>\n",
       "      <td>1</td>\n",
       "      <td>-73.980415</td>\n",
       "      <td>40.738564</td>\n",
       "      <td>-73.999481</td>\n",
       "      <td>40.731152</td>\n",
       "      <td>663</td>\n",
       "      <td>72.5</td>\n",
       "      <td>0.0</td>\n",
       "      <td>0.0</td>\n",
       "      <td>0.00</td>\n",
       "      <td>20.455904</td>\n",
       "    </tr>\n",
       "    <tr>\n",
       "      <th>2</th>\n",
       "      <td>2016</td>\n",
       "      <td>4</td>\n",
       "      <td>19</td>\n",
       "      <td>2</td>\n",
       "      <td>1</td>\n",
       "      <td>-74.010040</td>\n",
       "      <td>40.719971</td>\n",
       "      <td>-74.012268</td>\n",
       "      <td>40.706718</td>\n",
       "      <td>429</td>\n",
       "      <td>39.0</td>\n",
       "      <td>0.0</td>\n",
       "      <td>0.0</td>\n",
       "      <td>0.00</td>\n",
       "      <td>13.438206</td>\n",
       "    </tr>\n",
       "    <tr>\n",
       "      <th>3</th>\n",
       "      <td>2016</td>\n",
       "      <td>3</td>\n",
       "      <td>13</td>\n",
       "      <td>2</td>\n",
       "      <td>1</td>\n",
       "      <td>-73.973053</td>\n",
       "      <td>40.793209</td>\n",
       "      <td>-73.972923</td>\n",
       "      <td>40.782520</td>\n",
       "      <td>435</td>\n",
       "      <td>46.5</td>\n",
       "      <td>0.0</td>\n",
       "      <td>0.0</td>\n",
       "      <td>0.00</td>\n",
       "      <td>10.689569</td>\n",
       "    </tr>\n",
       "    <tr>\n",
       "      <th>4</th>\n",
       "      <td>2016</td>\n",
       "      <td>1</td>\n",
       "      <td>22</td>\n",
       "      <td>2</td>\n",
       "      <td>6</td>\n",
       "      <td>-73.982857</td>\n",
       "      <td>40.742195</td>\n",
       "      <td>-73.992081</td>\n",
       "      <td>40.749184</td>\n",
       "      <td>443</td>\n",
       "      <td>33.5</td>\n",
       "      <td>6.0</td>\n",
       "      <td>0.0</td>\n",
       "      <td>0.00</td>\n",
       "      <td>11.572403</td>\n",
       "    </tr>\n",
       "  </tbody>\n",
       "</table>\n",
       "</div>"
      ],
      "text/plain": [
       "   year  month  hour  vendor_id  passenger_count  pickup_longitude  \\\n",
       "0  2016      3    17          2                1        -73.982155   \n",
       "1  2016      6     0          1                1        -73.980415   \n",
       "2  2016      4    19          2                1        -74.010040   \n",
       "3  2016      3    13          2                1        -73.973053   \n",
       "4  2016      1    22          2                6        -73.982857   \n",
       "\n",
       "   pickup_latitude  dropoff_longitude  dropoff_latitude  trip_duration(sec)  \\\n",
       "0        40.767937         -73.964630         40.765602                 455   \n",
       "1        40.738564         -73.999481         40.731152                 663   \n",
       "2        40.719971         -74.012268         40.706718                 429   \n",
       "3        40.793209         -73.972923         40.782520                 435   \n",
       "4        40.742195         -73.992081         40.749184                 443   \n",
       "\n",
       "   avg_temp(F)  snow_depth(inch)  snow_fall  precipitate  distance(mile)  \n",
       "0         45.5               0.0        0.0         0.29       17.679539  \n",
       "1         72.5               0.0        0.0         0.00       20.455904  \n",
       "2         39.0               0.0        0.0         0.00       13.438206  \n",
       "3         46.5               0.0        0.0         0.00       10.689569  \n",
       "4         33.5               6.0        0.0         0.00       11.572403  "
      ]
     },
     "execution_count": 17,
     "metadata": {},
     "output_type": "execute_result"
    }
   ],
   "source": [
    "#dropping all categorical columns\n",
    "df['snow_depth(inch)']=pd.to_numeric(df['snow_depth(inch)'])\n",
    "df['snow_fall']=pd.to_numeric(df['snow_fall'])\n",
    "df['precipitate']=pd.to_numeric(df['precipitate'])\n",
    "df.store_and_fwd_flag.astype('category')\n",
    "\n",
    "df=df.drop(columns=['store_and_fwd_flag','date','id','pickup_datetime','dropoff_datetime'], axis = 1)\n",
    "################## df['date'] = df['Date'].dt.day ######################################\n",
    "df.info()\n",
    "df.head()"
   ]
  },
  {
   "cell_type": "code",
   "execution_count": 18,
   "metadata": {},
   "outputs": [
    {
     "data": {
      "text/plain": [
       "<matplotlib.axes._subplots.AxesSubplot at 0x1a23f780b8>"
      ]
     },
     "execution_count": 18,
     "metadata": {},
     "output_type": "execute_result"
    },
    {
     "data": {
      "image/png": "[encoded data removed]",
      "text/plain": [
       "<Figure size 432x288 with 1 Axes>"
      ]
     },
     "metadata": {
      "needs_background": "light"
     },
     "output_type": "display_data"
    }
   ],
   "source": [
    "df.plot(kind=\"scatter\", x=\"avg_temp(F)\", y=\"trip_duration(sec)\", alpha=0.1)"
   ]
  },
  {
   "cell_type": "code",
   "execution_count": 19,
   "metadata": {},
   "outputs": [
    {
     "data": {
      "text/plain": [
       "<matplotlib.axes._subplots.AxesSubplot at 0x1a24f1cef0>"
      ]
     },
     "execution_count": 19,
     "metadata": {},
     "output_type": "execute_result"
    },
    {
     "data": {
      "image/png": "[encoded data removed]",
      "text/plain": [
       "<Figure size 432x288 with 1 Axes>"
      ]
     },
     "metadata": {
      "needs_background": "light"
     },
     "output_type": "display_data"
    }
   ],
   "source": [
    "df.plot(kind=\"scatter\", x=\"avg_temp(F)\", y=\"distance(mile)\", alpha=0.1)"
   ]
  },
  {
   "cell_type": "code",
   "execution_count": 20,
   "metadata": {
    "scrolled": true
   },
   "outputs": [
    {
     "data": {
      "text/plain": [
       "<matplotlib.axes._subplots.AxesSubplot at 0x1a24fcf5f8>"
      ]
     },
     "execution_count": 20,
     "metadata": {},
     "output_type": "execute_result"
    },
    {
     "data": {
      "image/png": "[encoded data removed]",
      "text/plain": [
       "<Figure size 432x288 with 1 Axes>"
      ]
     },
     "metadata": {
      "needs_background": "light"
     },
     "output_type": "display_data"
    }
   ],
   "source": [
    "df.precipitate = pd.to_numeric(df['precipitate'], errors='coerce')\n",
    "df.plot(kind=\"scatter\", x=\"precipitate\", y=\"trip_duration(sec)\", alpha=0.1)"
   ]
  },
  {
   "cell_type": "code",
   "execution_count": 21,
   "metadata": {
    "scrolled": true
   },
   "outputs": [
    {
     "data": {
      "text/plain": [
       "<matplotlib.axes._subplots.AxesSubplot at 0x1a24f14828>"
      ]
     },
     "execution_count": 21,
     "metadata": {},
     "output_type": "execute_result"
    },
    {
     "data": {
      "image/png": "[encoded data removed]",
      "text/plain": [
       "<Figure size 432x288 with 1 Axes>"
      ]
     },
     "metadata": {
      "needs_background": "light"
     },
     "output_type": "display_data"
    }
   ],
   "source": [
    "df.plot(kind=\"scatter\", x=\"snow_fall\", y=\"trip_duration(sec)\", alpha=0.1)"
   ]
  },
  {
   "cell_type": "code",
   "execution_count": 22,
   "metadata": {},
   "outputs": [
    {
     "data": {
      "text/plain": [
       "<matplotlib.axes._subplots.AxesSubplot at 0x1a241ca6a0>"
      ]
     },
     "execution_count": 22,
     "metadata": {},
     "output_type": "execute_result"
    },
    {
     "data": {
      "image/png": "[encoded data removed]",
      "text/plain": [
       "<Figure size 432x288 with 1 Axes>"
      ]
     },
     "metadata": {
      "needs_background": "light"
     },
     "output_type": "display_data"
    }
   ],
   "source": [
    "df.plot(kind=\"scatter\", x=\"snow_fall\", y=\"distance(mile)\", alpha=0.1)"
   ]
  },
  {
   "cell_type": "code",
   "execution_count": 23,
   "metadata": {},
   "outputs": [
    {
     "data": {
      "text/plain": [
       "<matplotlib.axes._subplots.AxesSubplot at 0x1a241adcf8>"
      ]
     },
     "execution_count": 23,
     "metadata": {},
     "output_type": "execute_result"
    },
    {
     "data": {
      "image/png": "[encoded data removed]",
      "text/plain": [
       "<Figure size 432x288 with 1 Axes>"
      ]
     },
     "metadata": {
      "needs_background": "light"
     },
     "output_type": "display_data"
    }
   ],
   "source": [
    "df.plot(kind=\"scatter\", x=\"precipitate\", y=\"distance(mile)\", alpha=0.1)"
   ]
  },
  {
   "cell_type": "code",
   "execution_count": 24,
   "metadata": {},
   "outputs": [
    {
     "data": {
      "text/plain": [
       "<matplotlib.axes._subplots.AxesSubplot at 0x1a24ad4080>"
      ]
     },
     "execution_count": 24,
     "metadata": {},
     "output_type": "execute_result"
    },
    {
     "data": {
      "image/png": "[encoded data removed]",
      "text/plain": [
       "<Figure size 432x288 with 1 Axes>"
      ]
     },
     "metadata": {
      "needs_background": "light"
     },
     "output_type": "display_data"
    }
   ],
   "source": [
    "df.plot(kind=\"scatter\", x=\"pickup_longitude\", y=\"pickup_latitude\", alpha=0.05)"
   ]
  },
  {
   "cell_type": "code",
   "execution_count": 25,
   "metadata": {},
   "outputs": [
    {
     "data": {
      "text/plain": [
       "<matplotlib.axes._subplots.AxesSubplot at 0x1a241ad3c8>"
      ]
     },
     "execution_count": 25,
     "metadata": {},
     "output_type": "execute_result"
    },
    {
     "data": {
      "image/png": "[encoded data removed]",
      "text/plain": [
       "<Figure size 432x288 with 1 Axes>"
      ]
     },
     "metadata": {
      "needs_background": "light"
     },
     "output_type": "display_data"
    }
   ],
   "source": [
    "df.plot(kind=\"scatter\", x=\"dropoff_longitude\", y=\"dropoff_latitude\", alpha=0.05)"
   ]
  },
  {
   "cell_type": "code",
   "execution_count": 26,
   "metadata": {},
   "outputs": [
    {
     "data": {
      "text/plain": [
       "distance(mile)        1.000000\n",
       "trip_duration(sec)    0.645391\n",
       "pickup_longitude      0.367372\n",
       "dropoff_longitude     0.307541\n",
       "month                 0.094645\n",
       "avg_temp(F)           0.077334\n",
       "snow_depth(inch)     -0.002702\n",
       "snow_fall            -0.007577\n",
       "passenger_count      -0.024312\n",
       "precipitate          -0.024506\n",
       "hour                 -0.029539\n",
       "vendor_id            -0.029787\n",
       "dropoff_latitude     -0.060355\n",
       "pickup_latitude      -0.191257\n",
       "year                       NaN\n",
       "Name: distance(mile), dtype: float64"
      ]
     },
     "execution_count": 26,
     "metadata": {},
     "output_type": "execute_result"
    }
   ],
   "source": [
    "df['distance(mile)'].astype(float)\n",
    "corr_matrix = df.corr()\n",
    "corr_matrix[\"distance(mile)\"].sort_values(ascending=False)"
   ]
  },
  {
   "cell_type": "code",
   "execution_count": null,
   "metadata": {},
   "outputs": [],
   "source": []
  },
  {
   "cell_type": "code",
   "execution_count": 27,
   "metadata": {},
   "outputs": [],
   "source": [
    "#Transform the data to matrix of X and y\n",
    "\n",
    "# 1. Split between X the predictors and y the target\n",
    "y = df['vendor_id']\n",
    "X = df.drop('vendor_id', axis=1)\n",
    "\n",
    "# 2. Turn from data frame to matrix: no indexes, number only\n",
    "X = X.values  # X is a matrix of size 20 * 810\n",
    "y = y.values  # y is a matrix of size 1 * 810, therefore it is a vector\n",
    "\n",
    "# 3. Split X and y togather to train data set 80% and test data set 20%\n",
    "X_train, X_test, y_train, y_test = train_test_split(X, y, test_size=0.2, random_state=7, stratify = y) "
   ]
  },
  {
   "cell_type": "code",
   "execution_count": null,
   "metadata": {},
   "outputs": [],
   "source": []
  },
  {
   "cell_type": "code",
   "execution_count": 28,
   "metadata": {},
   "outputs": [
    {
     "name": "stdout",
     "output_type": "stream",
     "text": [
      "df type is:  <class 'pandas.core.frame.DataFrame'>   and X_train type is:  <class 'numpy.ndarray'>\n"
     ]
    }
   ],
   "source": [
    "print( 'df type is: ', type(df), '  and X_train type is: ', type(X_train))"
   ]
  },
  {
   "cell_type": "code",
   "execution_count": 29,
   "metadata": {},
   "outputs": [],
   "source": [
    "# select a model\n",
    "tree_class = DecisionTreeClassifier()"
   ]
  },
  {
   "cell_type": "code",
   "execution_count": 30,
   "metadata": {},
   "outputs": [
    {
     "data": {
      "text/plain": [
       "DecisionTreeClassifier(class_weight=None, criterion='gini', max_depth=None,\n",
       "            max_features=None, max_leaf_nodes=None,\n",
       "            min_impurity_decrease=0.0, min_impurity_split=None,\n",
       "            min_samples_leaf=1, min_samples_split=2,\n",
       "            min_weight_fraction_leaf=0.0, presort=False, random_state=None,\n",
       "            splitter='best')"
      ]
     },
     "execution_count": 30,
     "metadata": {},
     "output_type": "execute_result"
    }
   ],
   "source": [
    "tree_class.fit(X_train, y_train)"
   ]
  },
  {
   "cell_type": "code",
   "execution_count": 31,
   "metadata": {},
   "outputs": [
    {
     "data": {
      "text/plain": [
       "0.5132275132275133"
      ]
     },
     "execution_count": 31,
     "metadata": {},
     "output_type": "execute_result"
    }
   ],
   "source": [
    "#Model evaluation\n",
    "tree_class.score(X=X_test, y=y_test) "
   ]
  },
  {
   "cell_type": "code",
   "execution_count": 32,
   "metadata": {},
   "outputs": [
    {
     "data": {
      "text/plain": [
       "1.0"
      ]
     },
     "execution_count": 32,
     "metadata": {},
     "output_type": "execute_result"
    }
   ],
   "source": [
    "tree_class.score(X=X_train, y=y_train) "
   ]
  },
  {
   "cell_type": "code",
   "execution_count": 33,
   "metadata": {},
   "outputs": [
    {
     "data": {
      "text/plain": [
       "array([[ 2.01600000e+03,  4.00000000e+00,  1.80000000e+01,\n",
       "         1.00000000e+00, -7.39674835e+01,  4.07626839e+01,\n",
       "        -7.40093765e+01,  4.07466736e+01,  1.94500000e+03,\n",
       "         3.90000000e+01,  0.00000000e+00,  0.00000000e+00,\n",
       "         0.00000000e+00,  4.48481115e+01],\n",
       "       [ 2.01600000e+03,  4.00000000e+00,  1.40000000e+01,\n",
       "         1.00000000e+00, -7.39917679e+01,  4.07491798e+01,\n",
       "        -7.39684219e+01,  4.07607193e+01,  1.45500000e+03,\n",
       "         3.70000000e+01,  0.00000000e+00,  0.00000000e+00,\n",
       "         4.70000000e-01,  2.60421269e+01],\n",
       "       [ 2.01600000e+03,  5.00000000e+00,  2.10000000e+01,\n",
       "         4.00000000e+00, -7.39901199e+01,  4.07141685e+01,\n",
       "        -7.40063171e+01,  4.07336693e+01,  1.12600000e+03,\n",
       "         6.10000000e+01,  0.00000000e+00,  0.00000000e+00,\n",
       "         9.00000000e-02,  2.53501085e+01]])"
      ]
     },
     "execution_count": 33,
     "metadata": {},
     "output_type": "execute_result"
    }
   ],
   "source": [
    "#Predict / Deploy model\n",
    "example = X_test[7:10,]\n",
    "example"
   ]
  },
  {
   "cell_type": "code",
   "execution_count": 34,
   "metadata": {},
   "outputs": [
    {
     "data": {
      "text/plain": [
       "array([2, 1, 2])"
      ]
     },
     "execution_count": 34,
     "metadata": {},
     "output_type": "execute_result"
    }
   ],
   "source": [
    "predicted_y = tree_class.predict(X=example)\n",
    "predicted_y"
   ]
  },
  {
   "cell_type": "code",
   "execution_count": 35,
   "metadata": {},
   "outputs": [
    {
     "data": {
      "text/plain": [
       "array([1, 2, 2])"
      ]
     },
     "execution_count": 35,
     "metadata": {},
     "output_type": "execute_result"
    }
   ],
   "source": [
    "y_test[7:10,]"
   ]
  },
  {
   "cell_type": "code",
   "execution_count": null,
   "metadata": {},
   "outputs": [],
   "source": []
  }
 ],
 "metadata": {
  "kernelspec": {
   "display_name": "Python 3",
   "language": "python",
   "name": "python3"
  },
  "language_info": {
   "codemirror_mode": {
    "name": "ipython",
    "version": 3
   },
   "file_extension": ".py",
   "mimetype": "text/x-python",
   "name": "python",
   "nbconvert_exporter": "python",
   "pygments_lexer": "ipython3",
   "version": "3.7.0"
  }
 },
 "nbformat": 4,
 "nbformat_minor": 2
}
